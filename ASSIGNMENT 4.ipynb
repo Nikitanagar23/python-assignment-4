{
 "cells": [
  {
   "cell_type": "code",
   "execution_count": 1,
   "id": "f65bd745-8222-47ce-bb4b-470d770c1fcb",
   "metadata": {
    "tags": []
   },
   "outputs": [],
   "source": [
    "#CONTROL FLOW"
   ]
  },
  {
   "cell_type": "code",
   "execution_count": 2,
   "id": "8d3116ba-6446-41dd-801a-dba37083fbd7",
   "metadata": {
    "tags": []
   },
   "outputs": [],
   "source": [
    "#ASSIGNMENT QUESTIONS"
   ]
  },
  {
   "cell_type": "code",
   "execution_count": 3,
   "id": "25ba0e97-e7ca-4faa-8be8-7b8fba200e56",
   "metadata": {
    "tags": []
   },
   "outputs": [],
   "source": [
    "#BASIC IF-ELSE STATEMENTS:"
   ]
  },
  {
   "cell_type": "code",
   "execution_count": 4,
   "id": "4adeb92c-c539-4287-9c2c-34123357ac27",
   "metadata": {
    "tags": []
   },
   "outputs": [],
   "source": [
    "#QUESTION 1"
   ]
  },
  {
   "cell_type": "code",
   "execution_count": 6,
   "id": "420a5ddb-2915-436b-9c01-9bf65d9dcf84",
   "metadata": {
    "tags": []
   },
   "outputs": [],
   "source": [
    "#WRITE A PYTHON PROGRAM TO CHECK IF A GIVEN NUMBER IS POSITIVE OR NEGATIVE"
   ]
  },
  {
   "cell_type": "code",
   "execution_count": 30,
   "id": "d6af71b3-fc96-4f23-a426-2cbe24b9e67d",
   "metadata": {
    "tags": []
   },
   "outputs": [
    {
     "name": "stdout",
     "output_type": "stream",
     "text": [
      "The number is positive!\n"
     ]
    }
   ],
   "source": [
    "number = 10\n",
    "if number>0:\n",
    "    print(\"The number is positive!\")\n",
    "else: \n",
    "    print(\"THe number is negative!\")"
   ]
  },
  {
   "cell_type": "code",
   "execution_count": null,
   "id": "ad701b9f-9315-439d-8be0-0f71bce94305",
   "metadata": {},
   "outputs": [],
   "source": []
  },
  {
   "cell_type": "code",
   "execution_count": null,
   "id": "d0b0c891-b6d2-4dd1-9145-031a5004f29c",
   "metadata": {},
   "outputs": [],
   "source": []
  },
  {
   "cell_type": "code",
   "execution_count": 7,
   "id": "49164256-2af4-4aaa-8fbf-2d4708e552aa",
   "metadata": {
    "tags": []
   },
   "outputs": [],
   "source": [
    "#QUESTION 2"
   ]
  },
  {
   "cell_type": "code",
   "execution_count": 8,
   "id": "214bb713-e6d2-435b-9187-6fb77e12025d",
   "metadata": {
    "tags": []
   },
   "outputs": [],
   "source": [
    "# CREATE A PROGRAM THAT DETERMINES IF A PERSON IS ELIGIBLE TO VOTE BASED ON THEIR AGE"
   ]
  },
  {
   "cell_type": "code",
   "execution_count": 31,
   "id": "4fa2ba86-6244-4d99-8bcf-f587c34eec09",
   "metadata": {
    "tags": []
   },
   "outputs": [
    {
     "name": "stdout",
     "output_type": "stream",
     "text": [
      "You are eligible to vote!\n"
     ]
    }
   ],
   "source": [
    "age =18\n",
    "if age>=18:\n",
    "    print(\"You are eligible to vote!\") \n",
    "else:\n",
    "    print(\"You are not yet eligible to vote.\")\n"
   ]
  },
  {
   "cell_type": "code",
   "execution_count": null,
   "id": "696dd70a-399e-426b-bb53-48bd88129963",
   "metadata": {},
   "outputs": [],
   "source": []
  },
  {
   "cell_type": "code",
   "execution_count": null,
   "id": "56376702-121e-468f-a7a0-d5d7d79cdb5c",
   "metadata": {},
   "outputs": [],
   "source": []
  },
  {
   "cell_type": "code",
   "execution_count": 9,
   "id": "eeb809a2-bcd5-4e0c-9ffe-e34b312ab866",
   "metadata": {
    "tags": []
   },
   "outputs": [],
   "source": [
    "# QUESTION 3"
   ]
  },
  {
   "cell_type": "code",
   "execution_count": 10,
   "id": "0b320600-93b2-4fb1-9747-c926bed89ce8",
   "metadata": {
    "tags": []
   },
   "outputs": [],
   "source": [
    "# DEVELOP A PROGRAM TO FIND THE MAXIMUM OF TWO NUMBERS USING IF-ELSE STATEMENTS"
   ]
  },
  {
   "cell_type": "code",
   "execution_count": 32,
   "id": "ee77623f-443f-407b-b890-2dd63975ec27",
   "metadata": {
    "tags": []
   },
   "outputs": [
    {
     "name": "stdout",
     "output_type": "stream",
     "text": [
      "The maximum number is: 20\n"
     ]
    }
   ],
   "source": [
    "num1=10\n",
    "num2=20\n",
    "if num1>num2:\n",
    "    print(\"The maximum number is:\",num1)\n",
    "else:\n",
    "    print(\"The maximum number is:\",num2)\n",
    "        "
   ]
  },
  {
   "cell_type": "code",
   "execution_count": null,
   "id": "97995d89-d2d0-4016-832b-8441a3cfa976",
   "metadata": {},
   "outputs": [],
   "source": []
  },
  {
   "cell_type": "code",
   "execution_count": null,
   "id": "7dd26fd7-6bd8-42f2-a9f1-0fad7c918e45",
   "metadata": {},
   "outputs": [],
   "source": []
  },
  {
   "cell_type": "code",
   "execution_count": 11,
   "id": "eff5e72a-ea92-4685-97d2-85d7cb7f5d8c",
   "metadata": {
    "tags": []
   },
   "outputs": [],
   "source": [
    "#QUESTION 4"
   ]
  },
  {
   "cell_type": "code",
   "execution_count": 12,
   "id": "9b6e1517-fba0-4c9e-8bc6-0f20b32694de",
   "metadata": {
    "tags": []
   },
   "outputs": [],
   "source": [
    "#CREATE A PROGRAM THAT CHECKS WHETHER A GIVEN YEAR AS A LEAP YEAR OR NOT"
   ]
  },
  {
   "cell_type": "code",
   "execution_count": 35,
   "id": "d5c53d51-451c-4099-b314-bfbc37786fe3",
   "metadata": {
    "tags": []
   },
   "outputs": [
    {
     "name": "stdout",
     "output_type": "stream",
     "text": [
      "The year 2024 is a leap year!\n"
     ]
    }
   ],
   "source": [
    "year = 2024\n",
    "if year%4 ==0 and(year%100!=0 or year%400==0):\n",
    "    print(\"The year\",year,\"is a leap year!\")\n",
    "else:\n",
    "    print(\"The year\",year, \"is not a leap year.\")"
   ]
  },
  {
   "cell_type": "code",
   "execution_count": null,
   "id": "d0bfbbeb-225a-43d0-ae86-cc2e2db59c94",
   "metadata": {},
   "outputs": [],
   "source": []
  },
  {
   "cell_type": "code",
   "execution_count": null,
   "id": "1558c73b-3166-419e-a13e-6658bda25741",
   "metadata": {},
   "outputs": [],
   "source": []
  },
  {
   "cell_type": "code",
   "execution_count": 13,
   "id": "b3acaf4c-e051-496e-8865-b45b3f84dde3",
   "metadata": {
    "tags": []
   },
   "outputs": [],
   "source": [
    "#QUESTION 5"
   ]
  },
  {
   "cell_type": "code",
   "execution_count": 36,
   "id": "1b8a1fb5-79de-4b5f-a2bf-ff859644c8a8",
   "metadata": {
    "tags": []
   },
   "outputs": [],
   "source": [
    "#CREATE A PROGRAM THAT CHECKS WHETHER A CHARACTER IS A VOWEL OR A CONSONANT"
   ]
  },
  {
   "cell_type": "code",
   "execution_count": 37,
   "id": "2c8ce9c1-475e-4220-a02f-df7a280fe661",
   "metadata": {
    "tags": []
   },
   "outputs": [
    {
     "name": "stdout",
     "output_type": "stream",
     "text": [
      "The character a is a vowel!\n"
     ]
    }
   ],
   "source": [
    "character='a'\n",
    "if character.lower() in ['a','e','i','o','u']:\n",
    "    print(\"The character\",character,\"is a vowel!\")\n",
    "else:\n",
    "    print(\"The character\",character, \"is a consonant.\")"
   ]
  },
  {
   "cell_type": "code",
   "execution_count": null,
   "id": "97fd887c-bfe1-423d-aae8-cd6d3fb41adf",
   "metadata": {},
   "outputs": [],
   "source": []
  },
  {
   "cell_type": "code",
   "execution_count": null,
   "id": "75a5f14c-11bc-489f-a9cc-f64b6f77dcaf",
   "metadata": {},
   "outputs": [],
   "source": []
  },
  {
   "cell_type": "code",
   "execution_count": 15,
   "id": "e9cf9544-8c45-4768-a495-cd2b4a49f67f",
   "metadata": {
    "tags": []
   },
   "outputs": [],
   "source": [
    "#QUESTION 6"
   ]
  },
  {
   "cell_type": "code",
   "execution_count": 16,
   "id": "9c4af34f-da8a-4d8b-abee-b0f504c958f5",
   "metadata": {
    "tags": []
   },
   "outputs": [],
   "source": [
    "#IMPLEMENT A PROGRAM TO DETERMINE WHETHER A GIVEN NUMBER IS EVEN OR ODD"
   ]
  },
  {
   "cell_type": "code",
   "execution_count": 38,
   "id": "bdb80c17-b4b7-40d7-b953-00f2dcee9209",
   "metadata": {
    "tags": []
   },
   "outputs": [
    {
     "name": "stdout",
     "output_type": "stream",
     "text": [
      "The number 7 is odd.\n"
     ]
    }
   ],
   "source": [
    "number = 7\n",
    "if number%2==0:\n",
    "    print(\"The \",number,\"is even!\")\n",
    "else:\n",
    "    print(\"The number\",number,\"is odd.\")\n",
    "        "
   ]
  },
  {
   "cell_type": "code",
   "execution_count": null,
   "id": "9389a3f0-a461-40f7-989c-2c1215b0c69d",
   "metadata": {},
   "outputs": [],
   "source": []
  },
  {
   "cell_type": "code",
   "execution_count": null,
   "id": "aaad3230-7a06-400d-bb23-98ef7c6d0f4a",
   "metadata": {},
   "outputs": [],
   "source": []
  },
  {
   "cell_type": "code",
   "execution_count": 17,
   "id": "d07a7cca-9a1e-48d1-b962-38fb76ce98d9",
   "metadata": {
    "tags": []
   },
   "outputs": [],
   "source": [
    "#QUESTION 7"
   ]
  },
  {
   "cell_type": "code",
   "execution_count": 18,
   "id": "be2714f5-5879-43fc-bfb0-426cb1285333",
   "metadata": {
    "tags": []
   },
   "outputs": [],
   "source": [
    "# WRITE A PYTHON FUNCTION TO CALCULATE THE ABSOLUTE VALUE OF A NUMBER WITHOUT USING THE 'ABS()' FUNCTION"
   ]
  },
  {
   "cell_type": "code",
   "execution_count": 42,
   "id": "9fdf9ad6-786d-40fb-8dc3-413c58033a97",
   "metadata": {
    "tags": []
   },
   "outputs": [
    {
     "data": {
      "text/plain": [
       "5"
      ]
     },
     "execution_count": 42,
     "metadata": {},
     "output_type": "execute_result"
    }
   ],
   "source": [
    "def absolute_value(number):\n",
    "    if number<0:\n",
    "        return-number\n",
    "    else:\n",
    "        return number\n",
    "absolute_value(-5)"
   ]
  },
  {
   "cell_type": "code",
   "execution_count": null,
   "id": "48b51c7a-f2b8-4561-afbf-f4d3d82d1a80",
   "metadata": {},
   "outputs": [],
   "source": []
  },
  {
   "cell_type": "code",
   "execution_count": null,
   "id": "e99a88ed-f7e3-418d-b60c-986f131e8901",
   "metadata": {},
   "outputs": [],
   "source": []
  },
  {
   "cell_type": "code",
   "execution_count": 19,
   "id": "e0ba1282-1cbe-41e2-98d6-bc0060d552ab",
   "metadata": {
    "tags": []
   },
   "outputs": [],
   "source": [
    "#QUESTION 8"
   ]
  },
  {
   "cell_type": "code",
   "execution_count": 20,
   "id": "ce31b244-61b9-4282-b85f-2ddeefdaaeab",
   "metadata": {
    "tags": []
   },
   "outputs": [],
   "source": [
    "#DEVELOP A PROGRAM THAT DETERMINES THE LARGEST OF THREE GIVEN NUMBERS USING IF-ELSE STATEMENT"
   ]
  },
  {
   "cell_type": "code",
   "execution_count": 45,
   "id": "52369464-33c4-489e-a7fe-5a95c7c69042",
   "metadata": {
    "tags": []
   },
   "outputs": [
    {
     "name": "stdout",
     "output_type": "stream",
     "text": [
      "The largest number is: 10\n"
     ]
    }
   ],
   "source": [
    "def find_largest_number(num1,num2,num3):\n",
    "    if num1>= num2 and num1>= num3:\n",
    "        return num1\n",
    "    elif num2>=num1 and num2>= num3:\n",
    "        return num2\n",
    "    else:\n",
    "        return num3\n",
    "number1 =5\n",
    "number2=10\n",
    "number3=7\n",
    "largest_number=find_largest_number(number1,number2,number3)\n",
    "print(\"The largest number is:\",largest_number)"
   ]
  },
  {
   "cell_type": "code",
   "execution_count": null,
   "id": "d971f6fa-1f73-42e2-9773-4009bfd5abf1",
   "metadata": {},
   "outputs": [],
   "source": []
  },
  {
   "cell_type": "code",
   "execution_count": null,
   "id": "7977aa7f-e3a7-4c7d-aee5-b1fc3726646a",
   "metadata": {},
   "outputs": [],
   "source": []
  },
  {
   "cell_type": "code",
   "execution_count": 21,
   "id": "d1be68bc-60ab-4acd-877f-5e2faa2ecc68",
   "metadata": {
    "tags": []
   },
   "outputs": [],
   "source": [
    "#QUESTION 9"
   ]
  },
  {
   "cell_type": "code",
   "execution_count": 22,
   "id": "f382a758-5d04-49d3-a4b1-78203f429a9a",
   "metadata": {
    "tags": []
   },
   "outputs": [],
   "source": [
    "# CREATE A PROGRAM THAT CHECKS IF A GIVEN STRING IS A PALINDROME"
   ]
  },
  {
   "cell_type": "code",
   "execution_count": 46,
   "id": "2a9c7dec-7d9d-410d-94a5-9599484b2011",
   "metadata": {
    "tags": []
   },
   "outputs": [
    {
     "name": "stdout",
     "output_type": "stream",
     "text": [
      "The string is not a palindrome.\n"
     ]
    }
   ],
   "source": [
    "def is_palindrome(string):\n",
    "    string = string.replace(\"\",\"\").lower()\n",
    "    if string == string[::-1]:\n",
    "        return True \n",
    "    else:\n",
    "        return False\n",
    "input_string= \"Madam Arora teaches malayalam\"\n",
    "if is_palindrome(input_string):\n",
    "    print(\"The string is a pallindrome.\")\n",
    "else:\n",
    "    print(\"The string is not a palindrome.\")"
   ]
  },
  {
   "cell_type": "code",
   "execution_count": null,
   "id": "8e977fcd-f15e-4d47-ac2b-bef855398aa6",
   "metadata": {},
   "outputs": [],
   "source": []
  },
  {
   "cell_type": "code",
   "execution_count": null,
   "id": "09232662-7d0e-4b02-ae18-797a704551a7",
   "metadata": {},
   "outputs": [],
   "source": []
  },
  {
   "cell_type": "code",
   "execution_count": 23,
   "id": "766fa3e9-f164-44bc-92c4-a380ebfcea70",
   "metadata": {
    "tags": []
   },
   "outputs": [],
   "source": [
    "#QUESTION 10"
   ]
  },
  {
   "cell_type": "code",
   "execution_count": 25,
   "id": "059f37c2-4204-4fd0-86c2-29959c063074",
   "metadata": {
    "tags": []
   },
   "outputs": [],
   "source": [
    "#WRITE A PYTHON PROGRAM TO CALCULATE THE GRADE BASED ON A STUDENTS SCORE"
   ]
  },
  {
   "cell_type": "code",
   "execution_count": 47,
   "id": "718499a2-6fed-43f9-9697-7ebaa84d55db",
   "metadata": {
    "tags": []
   },
   "outputs": [
    {
     "name": "stdout",
     "output_type": "stream",
     "text": [
      "The student's grade is: B\n"
     ]
    }
   ],
   "source": [
    "def calculate_grade(score):\n",
    "    if score>=90:\n",
    "        return\"A\"\n",
    "    elif score>=80:\n",
    "        return\"B\"\n",
    "    elif score>=70:\n",
    "        return\"C\"\n",
    "    elif score>=60:\n",
    "        return\"D\"\n",
    "    else:\n",
    "        return\"F\"\n",
    "student_score=85\n",
    "grade = calculate_grade(student_score)\n",
    "print(\"The student's grade is:\",grade)"
   ]
  },
  {
   "cell_type": "code",
   "execution_count": null,
   "id": "d10f53da-63b9-49cf-b8e3-519f1034e983",
   "metadata": {},
   "outputs": [],
   "source": []
  },
  {
   "cell_type": "code",
   "execution_count": null,
   "id": "bfa0c312-9c5b-4fce-a969-6e896de3a284",
   "metadata": {},
   "outputs": [],
   "source": []
  },
  {
   "cell_type": "code",
   "execution_count": 48,
   "id": "4f9e90f8-2f1a-4b4a-ad9e-4bd726dcd37c",
   "metadata": {
    "tags": []
   },
   "outputs": [],
   "source": [
    "#NESTED IF-ELSE STATEMENTS:"
   ]
  },
  {
   "cell_type": "code",
   "execution_count": 49,
   "id": "ae4714ec-bcc7-4d31-95f6-0f09a3876fb7",
   "metadata": {
    "tags": []
   },
   "outputs": [],
   "source": [
    "#QUESTION 11"
   ]
  },
  {
   "cell_type": "code",
   "execution_count": 50,
   "id": "ea9c6315-9756-4e0c-917a-1d736bd90e39",
   "metadata": {
    "tags": []
   },
   "outputs": [],
   "source": [
    "#WRITE A PROGRAM TO FIND THE LARGEST AMONG THREE NUMBERS USING NESTED IF -ELSE STATEMENTS."
   ]
  },
  {
   "cell_type": "code",
   "execution_count": 1,
   "id": "82830822-bb23-4c7a-9616-af72b42d0ba8",
   "metadata": {},
   "outputs": [
    {
     "name": "stdout",
     "output_type": "stream",
     "text": [
      "The largest number is: 25\n"
     ]
    }
   ],
   "source": [
    "def find_largest(num1,num2,num3):\n",
    "    if num1>=num2:\n",
    "        if num1>=num3:\n",
    "            return num1\n",
    "        else:\n",
    "            return num3 \n",
    "    else:\n",
    "        if num2>=num3:\n",
    "            return num2\n",
    "        else:\n",
    "            return num3\n",
    "number1 = 10\n",
    "number2 = 25\n",
    "number3 = 15\n",
    "largest_number = find_largest(number1,number2,number3)\n",
    "print(\"The largest number is:\",largest_number)\n",
    "        "
   ]
  },
  {
   "cell_type": "code",
   "execution_count": null,
   "id": "85efb820-0c87-4f61-8164-8be0483f3b66",
   "metadata": {},
   "outputs": [],
   "source": []
  },
  {
   "cell_type": "code",
   "execution_count": null,
   "id": "59b59423-eb14-4b9d-bc50-690700eea661",
   "metadata": {},
   "outputs": [],
   "source": []
  },
  {
   "cell_type": "code",
   "execution_count": 2,
   "id": "d6557d68-be68-490e-95cb-bf388c7f6d14",
   "metadata": {
    "tags": []
   },
   "outputs": [],
   "source": [
    "#QUESTION 12"
   ]
  },
  {
   "cell_type": "code",
   "execution_count": 3,
   "id": "8b2fff69-8c03-4ab9-bbed-b6e53c5888e4",
   "metadata": {
    "tags": []
   },
   "outputs": [],
   "source": [
    "#IMPLEMENT A PROGRAM TO DETERMINE IF A TRIANGLE IS EQUILATERAL, ISOSCLELES, OR SCALENE."
   ]
  },
  {
   "cell_type": "code",
   "execution_count": 50,
   "id": "c7b3cf3c-6af8-46d3-9a0e-9e5a24d37b38",
   "metadata": {
    "tags": []
   },
   "outputs": [
    {
     "name": "stdin",
     "output_type": "stream",
     "text": [
      "Enter the length of side a: 3\n",
      "Enter the length of side b: 4\n",
      "Enter the length of side c: 5\n"
     ]
    },
    {
     "name": "stdout",
     "output_type": "stream",
     "text": [
      "The triangle is scalene.\n"
     ]
    }
   ],
   "source": [
    "def triangle_type(a,b,c):\n",
    "    if a==b==c:\n",
    "        return \"equilateral\"\n",
    "    elif a == b or b==c or a==c:\n",
    "        return \"isosceles\"\n",
    "    else:\n",
    "        return \"scalene\"\n",
    "a=float(input(\"Enter the length of side a:\"))\n",
    "b = float(input(\"Enter the length of side b:\"))\n",
    "c = float(input(\"Enter the length of side c:\"))\n",
    "triangle = triangle_type(a,b,c)\n",
    "print(f\"The triangle is {triangle}.\")"
   ]
  },
  {
   "cell_type": "code",
   "execution_count": null,
   "id": "c9447d4a-b193-4278-a3c2-8e2c3e5da09e",
   "metadata": {},
   "outputs": [],
   "source": []
  },
  {
   "cell_type": "code",
   "execution_count": null,
   "id": "b0f2e9fa-1b60-4862-8d0b-b39d46001689",
   "metadata": {},
   "outputs": [],
   "source": []
  },
  {
   "cell_type": "code",
   "execution_count": 4,
   "id": "7eafac93-625f-4ded-991f-b5c961dabf20",
   "metadata": {
    "tags": []
   },
   "outputs": [],
   "source": [
    "#QUESTION 13"
   ]
  },
  {
   "cell_type": "code",
   "execution_count": 5,
   "id": "4bf40571-df49-46ee-8028-8d2abeba65e7",
   "metadata": {
    "tags": []
   },
   "outputs": [],
   "source": [
    "# DEVELOP A PROGRAM THAT CHECKS IF A YEAR IS A LEAP YEAR AND ALSO IF IT IS A CENTURY YEAR."
   ]
  },
  {
   "cell_type": "code",
   "execution_count": 45,
   "id": "bfc4cb46-babd-4763-88da-6d25fedb488a",
   "metadata": {
    "tags": []
   },
   "outputs": [
    {
     "name": "stdin",
     "output_type": "stream",
     "text": [
      "Please enter a year: 2023\n"
     ]
    },
    {
     "name": "stdout",
     "output_type": "stream",
     "text": [
      "2023 is not a leap year.\n"
     ]
    }
   ],
   "source": [
    "def is_leap_year(year):\n",
    "    if year %4==0:\n",
    "        if year%100==0:\n",
    "            if year%400 == 0:\n",
    "                return True\n",
    "            else:\n",
    "                return False\n",
    "        else:\n",
    "            return True\n",
    "    else:\n",
    "        return False\n",
    "year = int(input(\"Please enter a year:\"))\n",
    "if is_leap_year(year):\n",
    "    if year%100 == 0:\n",
    "        print(f\"{year} is a leap year and a century year.\")\n",
    "    else:\n",
    "        print(f\"{year} is a leap year, but not a century year.\")\n",
    "else:\n",
    "    print(f\"{year} is not a leap year.\")\n",
    "        \n",
    "            "
   ]
  },
  {
   "cell_type": "code",
   "execution_count": null,
   "id": "6566d1dc-dd76-483a-aced-45cc9bcbb566",
   "metadata": {},
   "outputs": [],
   "source": []
  },
  {
   "cell_type": "code",
   "execution_count": null,
   "id": "9b7ff697-7fe6-439d-b0d3-4defc22ce303",
   "metadata": {},
   "outputs": [],
   "source": []
  },
  {
   "cell_type": "code",
   "execution_count": 6,
   "id": "193e0cd6-c00c-451c-8c69-d6f378cd4f28",
   "metadata": {
    "tags": []
   },
   "outputs": [],
   "source": [
    "#QUESTION 14"
   ]
  },
  {
   "cell_type": "code",
   "execution_count": 7,
   "id": "9492ed76-c0ef-478a-ada6-82b365a949eb",
   "metadata": {
    "tags": []
   },
   "outputs": [],
   "source": [
    "# WRITE A PYTHON SCRIPT TO DETERMINE IF A NUMBER IS POSITIVE, NEGATIVE,OR ZERO."
   ]
  },
  {
   "cell_type": "code",
   "execution_count": 40,
   "id": "998b7106-cd7a-431e-bf3e-2f2cf4b03e25",
   "metadata": {
    "tags": []
   },
   "outputs": [
    {
     "name": "stdin",
     "output_type": "stream",
     "text": [
      "Please enter a number: -21\n"
     ]
    },
    {
     "name": "stdout",
     "output_type": "stream",
     "text": [
      "The number is negative.\n"
     ]
    }
   ],
   "source": [
    "def check_number(number):\n",
    "    if number>0:\n",
    "        return\"positive\"\n",
    "    elif number<0:\n",
    "        return\"negative\"\n",
    "    else:\n",
    "        return\"zero\"\n",
    "number = float(input(\"Please enter a number:\"))\n",
    "result = check_number(number)\n",
    "print(f\"The number is {result}.\")"
   ]
  },
  {
   "cell_type": "code",
   "execution_count": null,
   "id": "37eb8ddc-1b6b-449d-8d89-cee7dba5e5ea",
   "metadata": {},
   "outputs": [],
   "source": []
  },
  {
   "cell_type": "code",
   "execution_count": null,
   "id": "b12581d2-9f39-42a8-bf3f-ad99407cd9c5",
   "metadata": {},
   "outputs": [],
   "source": []
  },
  {
   "cell_type": "code",
   "execution_count": 36,
   "id": "82c73634-076b-47d7-a97f-ffbb545ed8c8",
   "metadata": {
    "tags": []
   },
   "outputs": [],
   "source": [
    "#QUESTION 15 "
   ]
  },
  {
   "cell_type": "code",
   "execution_count": 9,
   "id": "ee91a79c-2fd0-4e68-b571-7683943eed5b",
   "metadata": {
    "tags": []
   },
   "outputs": [],
   "source": [
    "# CREATE A PROGRAM TO CHECK IF A PERSON IS A TEENAGER (BETWEEN 13 AND 19 YEARS OLD)"
   ]
  },
  {
   "cell_type": "code",
   "execution_count": 35,
   "id": "bae360a4-4fc0-46c2-a85f-4f0ef0b13f7a",
   "metadata": {
    "tags": []
   },
   "outputs": [
    {
     "name": "stdin",
     "output_type": "stream",
     "text": [
      "Please enter the person's age: 18\n"
     ]
    },
    {
     "name": "stdout",
     "output_type": "stream",
     "text": [
      "Yes, the person is a teenager!\n"
     ]
    }
   ],
   "source": [
    "def is_teenager(age):\n",
    "    if 13<=age<=19:\n",
    "        return True \n",
    "    else:\n",
    "        return False\n",
    "age = int(input(\"Please enter the person's age:\"))\n",
    "if is_teenager(age):\n",
    "    print(\"Yes, the person is a teenager!\")\n",
    "else:\n",
    "    print(\"No, the person is not a teenager.\")\n"
   ]
  },
  {
   "cell_type": "code",
   "execution_count": null,
   "id": "45d6d433-b9a4-4bf1-91ad-c979975d9144",
   "metadata": {},
   "outputs": [],
   "source": []
  },
  {
   "cell_type": "code",
   "execution_count": null,
   "id": "b4af6d7d-425a-4028-b777-79b54548bd2f",
   "metadata": {},
   "outputs": [],
   "source": []
  },
  {
   "cell_type": "code",
   "execution_count": 10,
   "id": "c1f6a311-3488-4b33-bae7-46414dfd2889",
   "metadata": {
    "tags": []
   },
   "outputs": [],
   "source": [
    "#QUESTION 16"
   ]
  },
  {
   "cell_type": "code",
   "execution_count": 11,
   "id": "2c891b79-ca60-4015-b769-8762fc8e3960",
   "metadata": {
    "tags": []
   },
   "outputs": [],
   "source": [
    "#DEVELOP A PROGRAM THAT DETERMINES THE TYPE OF ANGLE BASED ON ITS MEASURE(ACUTE, OBTUSE,OR RIGHT)"
   ]
  },
  {
   "cell_type": "code",
   "execution_count": 34,
   "id": "d965e0ef-702f-4782-9ab9-42d448c759cc",
   "metadata": {
    "tags": []
   },
   "outputs": [
    {
     "name": "stdin",
     "output_type": "stream",
     "text": [
      "Enter the measure of the angle: 140\n"
     ]
    },
    {
     "name": "stdout",
     "output_type": "stream",
     "text": [
      "The angle is obtuse.\n"
     ]
    }
   ],
   "source": [
    "def determine_angle_type(angle):\n",
    "    if angle<90:\n",
    "        return\"The angle is acute.\"\n",
    "    elif angle==90:\n",
    "        return\"The angle is a right angle.\"\n",
    "    else:\n",
    "        return\"The angle is obtuse.\"\n",
    "angle = float(input(\"Enter the measure of the angle:\"))\n",
    "angle_type = determine_angle_type(angle)\n",
    "print(angle_type)"
   ]
  },
  {
   "cell_type": "code",
   "execution_count": null,
   "id": "eb810b96-5e7d-41a5-a349-2185794d1ac6",
   "metadata": {},
   "outputs": [],
   "source": []
  },
  {
   "cell_type": "code",
   "execution_count": null,
   "id": "65ff19d6-f557-403d-9f9f-02c0544aeb5d",
   "metadata": {},
   "outputs": [],
   "source": []
  },
  {
   "cell_type": "code",
   "execution_count": 12,
   "id": "3a437309-66a9-4e4e-8fe9-0b9d90c04315",
   "metadata": {
    "tags": []
   },
   "outputs": [],
   "source": [
    "#QUESTION 17"
   ]
  },
  {
   "cell_type": "code",
   "execution_count": 13,
   "id": "19734aca-c541-4578-b69d-d6b3d6c01d9d",
   "metadata": {
    "tags": []
   },
   "outputs": [],
   "source": [
    "# WRITE A PYTHON PROGRAM TO CALCULATE THE ROOTS OF A QUADRATIC EQUATION"
   ]
  },
  {
   "cell_type": "code",
   "execution_count": 27,
   "id": "c80b13e2-0c95-4933-8dfe-3214633c885c",
   "metadata": {
    "tags": []
   },
   "outputs": [
    {
     "name": "stdout",
     "output_type": "stream",
     "text": [
      "The roots of the quadratic equation are: (2.0, 1.0)\n"
     ]
    }
   ],
   "source": [
    "import math\n",
    "def calculate_roots(a,b,c):\n",
    "    discriminant = b**2-4*a*c\n",
    "    if discriminant>0:\n",
    "        root1 = (-b+math.sqrt(discriminant))/(2*a)\n",
    "        root2 = (-b-math.sqrt(discriminant))/(2*a)\n",
    "        return root1,root2\n",
    "    elif discriminant == 0:\n",
    "        root = -b/(2*a)\n",
    "        return root \n",
    "    else:\n",
    "        return \"No real roots\"\n",
    "a=1\n",
    "b=-3\n",
    "c=2\n",
    "roots = calculate_roots(a,b,c)\n",
    "print(\"The roots of the quadratic equation are:\",roots)"
   ]
  },
  {
   "cell_type": "code",
   "execution_count": null,
   "id": "60fe6f05-a0d2-4d44-9ffb-4158a1950444",
   "metadata": {},
   "outputs": [],
   "source": []
  },
  {
   "cell_type": "code",
   "execution_count": null,
   "id": "c261024b-1c34-4ac6-b1dc-820714fd811a",
   "metadata": {},
   "outputs": [],
   "source": []
  },
  {
   "cell_type": "code",
   "execution_count": 14,
   "id": "98f00070-b135-4c60-8bac-3a60dd3b80c3",
   "metadata": {
    "tags": []
   },
   "outputs": [],
   "source": [
    "#QUESTION 18"
   ]
  },
  {
   "cell_type": "code",
   "execution_count": 15,
   "id": "e41680cb-e836-4f25-a6dd-dae69318baab",
   "metadata": {
    "tags": []
   },
   "outputs": [],
   "source": [
    "# IMPLEMENT A PROGRAM TO DETERMINE THE DAY OF THE WEEK BASED ON A USER-PROVIDED NUMBER (1 FOR MONDAY, 2 FOR TUESDAY, ETC)."
   ]
  },
  {
   "cell_type": "code",
   "execution_count": 25,
   "id": "bc505f8c-41b6-4052-8fa9-d5d6b860179d",
   "metadata": {
    "tags": []
   },
   "outputs": [
    {
     "name": "stdout",
     "output_type": "stream",
     "text": [
      "The day corresponding to the number 3 is Wednesday.\n"
     ]
    }
   ],
   "source": [
    "def get_day_of_week(number):\n",
    "    days = [\"Monday\",\"Tuesday\",\"Wednesday\",\"Thursday\",\"Friday\",\"Saturday\",\"Sunday\"]\n",
    "    if number>=1 and number<=7:\n",
    "        return days[number - 1]\n",
    "    else:\n",
    "        return \"Invalid input.Please enter a number between 1 and7.\"\n",
    "number = 3\n",
    "day = get_day_of_week(number)\n",
    "print(f\"The day corresponding to the number {number} is {day}.\")"
   ]
  },
  {
   "cell_type": "code",
   "execution_count": null,
   "id": "52afe4a4-09a2-45c9-8d3f-43719f358fea",
   "metadata": {},
   "outputs": [],
   "source": []
  },
  {
   "cell_type": "code",
   "execution_count": null,
   "id": "228f47b4-580b-48e4-9427-5e7cb98f924f",
   "metadata": {},
   "outputs": [],
   "source": []
  },
  {
   "cell_type": "code",
   "execution_count": 16,
   "id": "684ba984-d701-43f0-a394-a1cd6afff935",
   "metadata": {
    "tags": []
   },
   "outputs": [],
   "source": [
    "#QUESTION 19"
   ]
  },
  {
   "cell_type": "code",
   "execution_count": 17,
   "id": "2c88f894-a622-4d0e-a077-a37ee15bafd2",
   "metadata": {
    "tags": []
   },
   "outputs": [],
   "source": [
    "# CREATE A PROGRAM THAT DETERMINES IF A YEAR IS A YEAR AND ALSO IF IT IS EVENLY DIVISIBLE BY 400."
   ]
  },
  {
   "cell_type": "code",
   "execution_count": 22,
   "id": "27e3f37b-14da-41ea-85ee-6564e9b55a93",
   "metadata": {
    "tags": []
   },
   "outputs": [
    {
     "name": "stdout",
     "output_type": "stream",
     "text": [
      "2024 is a leap year.\n"
     ]
    }
   ],
   "source": [
    "def is_leap_year(year):\n",
    "    if year%400==0:\n",
    "        return True\n",
    "    elif year%100==0:\n",
    "        return False\n",
    "    elif year%4==0:\n",
    "        return True\n",
    "    else:\n",
    "        return False\n",
    "year = 2024\n",
    "if is_leap_year(year):\n",
    "    print(f\"{year} is a leap year.\")\n",
    "else:\n",
    "    print(f\"{year} is not a leap year.\")"
   ]
  },
  {
   "cell_type": "code",
   "execution_count": null,
   "id": "d34c5a5d-0764-42d5-a9b8-e887e9c639c3",
   "metadata": {},
   "outputs": [],
   "source": []
  },
  {
   "cell_type": "code",
   "execution_count": null,
   "id": "4e06e9fa-e2a5-4521-923b-6143037f47be",
   "metadata": {},
   "outputs": [],
   "source": []
  },
  {
   "cell_type": "code",
   "execution_count": 18,
   "id": "b34c37ce-6b2b-4fce-a82b-607283d572c2",
   "metadata": {
    "tags": []
   },
   "outputs": [],
   "source": [
    "#QUESTION 20 "
   ]
  },
  {
   "cell_type": "code",
   "execution_count": 19,
   "id": "f090c038-fdd4-4456-b278-f046a8e6b7d8",
   "metadata": {
    "tags": []
   },
   "outputs": [],
   "source": [
    "# DEVELOP A PROGRAM THAT CHECKS IF A GIVEN NUMBER IS PRIME OR NOT USING NESTED IF-ELSE STATEMENTS."
   ]
  },
  {
   "cell_type": "code",
   "execution_count": 21,
   "id": "ed6da1cf-081b-460a-9b6e-a3207ce9c2d6",
   "metadata": {
    "tags": []
   },
   "outputs": [
    {
     "name": "stdout",
     "output_type": "stream",
     "text": [
      "17 is a prime number.\n"
     ]
    }
   ],
   "source": [
    "def is_prime(number):\n",
    "    if number<=1:\n",
    "        return False\n",
    "    elif number==2:\n",
    "        return True \n",
    "    else:\n",
    "        for i in range(2,int(number**0.5)+1):\n",
    "            if number%i==0:\n",
    "                return False \n",
    "            return True\n",
    "num = 17\n",
    "if is_prime(num):\n",
    "    print(f\"{num} is a prime number.\")\n",
    "else:\n",
    "    print(f\"{num}is not a prime number>\")"
   ]
  },
  {
   "cell_type": "code",
   "execution_count": null,
   "id": "10af3888-f23b-41f1-b5bf-fd78a0d06e9a",
   "metadata": {},
   "outputs": [],
   "source": []
  },
  {
   "cell_type": "code",
   "execution_count": null,
   "id": "53f4aa8f-45b1-4b69-9acf-5e997d928f21",
   "metadata": {},
   "outputs": [],
   "source": []
  },
  {
   "cell_type": "code",
   "execution_count": 51,
   "id": "cb32f5bb-93cb-401c-b1bd-4779eab879d5",
   "metadata": {
    "tags": []
   },
   "outputs": [],
   "source": [
    "#ELIF STATEMENT"
   ]
  },
  {
   "cell_type": "code",
   "execution_count": 52,
   "id": "1a39f8eb-1815-431f-80ee-275e59ba8fb1",
   "metadata": {
    "tags": []
   },
   "outputs": [],
   "source": [
    "#QUESTION 21"
   ]
  },
  {
   "cell_type": "code",
   "execution_count": 1,
   "id": "04a833e8-753a-4f79-876c-8114d43b71fa",
   "metadata": {},
   "outputs": [],
   "source": [
    "#WRITE A PYTHON PROGRAM TO ASSIGN GRADES BASED ON DIFFERENT RANGES OF SCORES USING ELIF STATEMENTS."
   ]
  },
  {
   "cell_type": "code",
   "execution_count": 22,
   "id": "350c887c-becc-472f-b835-f84efcd31d4f",
   "metadata": {
    "tags": []
   },
   "outputs": [
    {
     "name": "stdout",
     "output_type": "stream",
     "text": [
      "Your grade is: B\n"
     ]
    }
   ],
   "source": [
    "score = 85\n",
    "if score>=90:\n",
    "    grade =\"A\"\n",
    "elif score>= 80:\n",
    "    grade =\"B\"\n",
    "elif score>=70:\n",
    "    grade = \"C\"\n",
    "elif score>= 60:\n",
    "    grade = \"D\"\n",
    "else:\n",
    "    grade = \"F\"\n",
    "print(\"Your grade is:\",grade)"
   ]
  },
  {
   "cell_type": "code",
   "execution_count": null,
   "id": "657dfaa2-816f-4277-b3db-273ac5dea1b7",
   "metadata": {},
   "outputs": [],
   "source": []
  },
  {
   "cell_type": "code",
   "execution_count": null,
   "id": "498ce6fc-9887-4e4d-8b17-7f7ae8d2cb88",
   "metadata": {},
   "outputs": [],
   "source": []
  },
  {
   "cell_type": "code",
   "execution_count": 2,
   "id": "71348f99-1a75-42f5-9270-55a6a2e54635",
   "metadata": {
    "tags": []
   },
   "outputs": [],
   "source": [
    "#QUESTION 22"
   ]
  },
  {
   "cell_type": "code",
   "execution_count": 3,
   "id": "29eb3f84-7e11-450a-a420-bec72554b85f",
   "metadata": {
    "tags": []
   },
   "outputs": [],
   "source": [
    "# IMPLEMENT A PROGRAM TO DETERMIE THE TYPE OF A TRIANGLE BASED ON ITS ANGLES"
   ]
  },
  {
   "cell_type": "code",
   "execution_count": 24,
   "id": "e62f3531-144e-4744-8dde-64b89f3d9375",
   "metadata": {
    "tags": []
   },
   "outputs": [
    {
     "name": "stdout",
     "output_type": "stream",
     "text": [
      "The triangle is: Right triangle\n"
     ]
    }
   ],
   "source": [
    "angle1=45\n",
    "angle2=45\n",
    "angle3=90\n",
    "if angle1<90 and angle2<90 and angle3<90:\n",
    "    triangle_type = \"Acute triangle\"\n",
    "elif angle1==90 or angle2==90 or angle3==90:\n",
    "    triangle_type = \"Right triangle\"\n",
    "elif angle1>90 or angle2 >90 or angle3>90:\n",
    "    triangle_type = \"Obtuse triangle\"\n",
    "elif angle1== angle2 ==angle3==60:\n",
    "    triangle_type = \"Equilateral triangle\"\n",
    "elif angle1== angle2 or angle1 == angle3 or angle2== angle3:\n",
    "    triangle_type = \"Isosceles triangle\"\n",
    "else:\n",
    "    triangle_type = \"Scalene triangle\"\n",
    "print(\"The triangle is:\",triangle_type)"
   ]
  },
  {
   "cell_type": "code",
   "execution_count": null,
   "id": "a29fdcc9-ca0d-4d78-86af-77a955e6b999",
   "metadata": {},
   "outputs": [],
   "source": []
  },
  {
   "cell_type": "code",
   "execution_count": null,
   "id": "8f9434ed-41bb-48ac-93ae-823493293fec",
   "metadata": {},
   "outputs": [],
   "source": []
  },
  {
   "cell_type": "code",
   "execution_count": 4,
   "id": "2b442523-db87-4fd1-a2cf-ae5a1453029e",
   "metadata": {
    "tags": []
   },
   "outputs": [],
   "source": [
    "#QUESTION 23"
   ]
  },
  {
   "cell_type": "code",
   "execution_count": 5,
   "id": "f63b1c35-fa25-4fb8-abfc-ee7e3236d0eb",
   "metadata": {
    "tags": []
   },
   "outputs": [],
   "source": [
    "#DEVELOP A PROGRAM TO CATEGORIZE A GIVEN PERSON'S BMI INTO UNDERWEIGHT, NORMAL, OVERWEIGHT, OR OBESE USING ELIF STATEMENTS"
   ]
  },
  {
   "cell_type": "code",
   "execution_count": 26,
   "id": "a6a4caeb-8241-4b33-8e36-f787af07221c",
   "metadata": {
    "tags": []
   },
   "outputs": [
    {
     "name": "stdout",
     "output_type": "stream",
     "text": [
      "Your BMI category is: normal weight\n"
     ]
    }
   ],
   "source": [
    "weight = 70 #kg\n",
    "height= 1.75 #meter\n",
    "bmi=weight/(height* height)\n",
    "if bmi<18.5:\n",
    "    category = \"underweight\"\n",
    "elif bmi<25:\n",
    "    category =\"normal weight\"\n",
    "elif bmi<30:\n",
    "    category =\"overweight\"\n",
    "else:\n",
    "    category= \"obese\"\n",
    "print(\"Your BMI category is:\",category)"
   ]
  },
  {
   "cell_type": "code",
   "execution_count": null,
   "id": "f5015cee-af3f-4ce6-99ce-b66e991126aa",
   "metadata": {},
   "outputs": [],
   "source": []
  },
  {
   "cell_type": "code",
   "execution_count": null,
   "id": "948acf0e-1cb4-4f69-ac60-f5ca50ea68b6",
   "metadata": {},
   "outputs": [],
   "source": []
  },
  {
   "cell_type": "code",
   "execution_count": 6,
   "id": "d9f90500-5fa7-416b-82e1-b5d33482aaa8",
   "metadata": {
    "tags": []
   },
   "outputs": [],
   "source": [
    "#QUESTION 24"
   ]
  },
  {
   "cell_type": "code",
   "execution_count": 7,
   "id": "7ba02a6c-eb55-4340-875d-da40c7650cf8",
   "metadata": {
    "tags": []
   },
   "outputs": [],
   "source": [
    "#CREATE A PROGRAM TO DETERMINES WHETHER A GIVEN NUMBER IS POSITIVE, NEGATIVE OR ZERO USING ELIF STATEMENTS"
   ]
  },
  {
   "cell_type": "code",
   "execution_count": 33,
   "id": "682574b7-ad8c-461e-b2c3-d8e560f844bd",
   "metadata": {
    "tags": []
   },
   "outputs": [
    {
     "name": "stdin",
     "output_type": "stream",
     "text": [
      "Enter a number: -89\n"
     ]
    },
    {
     "name": "stdout",
     "output_type": "stream",
     "text": [
      "The number is negative\n"
     ]
    }
   ],
   "source": [
    "number = int(input(\"Enter a number:\"))\n",
    "if number > 0:\n",
    "    result = \"positive\"\n",
    "elif number < 0:\n",
    "    result = \"negative\"\n",
    "else:\n",
    "    result = \"zero\"\n",
    "print(\"The number is\",result)"
   ]
  },
  {
   "cell_type": "code",
   "execution_count": null,
   "id": "85d11fe1-a27b-468f-9bd9-1aa8a600e19d",
   "metadata": {},
   "outputs": [],
   "source": []
  },
  {
   "cell_type": "code",
   "execution_count": null,
   "id": "ac9ea944-9038-42bf-8bf2-e7c5eb4ae8fd",
   "metadata": {},
   "outputs": [],
   "source": []
  },
  {
   "cell_type": "code",
   "execution_count": 8,
   "id": "ecd3dd2a-c873-4b40-a304-772219a9178d",
   "metadata": {
    "tags": []
   },
   "outputs": [],
   "source": [
    "#QUESTION 25"
   ]
  },
  {
   "cell_type": "code",
   "execution_count": 9,
   "id": "5bdc7915-516f-497f-987c-ea48d2643e4c",
   "metadata": {
    "tags": []
   },
   "outputs": [],
   "source": [
    "#WRITE A PYTHON SCRIPT TO DETERMINES THE TYPE OF A CHARACTER(UPPERCASE, LOWERCASE OR SPECIAL) USING ELIF STATEMENTS"
   ]
  },
  {
   "cell_type": "code",
   "execution_count": 35,
   "id": "799757ca-fdaa-44ba-affe-fd4313808286",
   "metadata": {
    "tags": []
   },
   "outputs": [
    {
     "name": "stdin",
     "output_type": "stream",
     "text": [
      "Enter a character: Nikita Nagar\n"
     ]
    },
    {
     "name": "stdout",
     "output_type": "stream",
     "text": [
      "The character is uppercase\n"
     ]
    }
   ],
   "source": [
    "character = input(\"Enter a character:\")\n",
    "if character>='A' and character<='Z':\n",
    "    result = \"uppercase\"\n",
    "elif character>='a' and character<='z':\n",
    "    result = \"lowecase\"\n",
    "else:\n",
    "    result =\"special\"\n",
    "print(\"The character is\", result)"
   ]
  },
  {
   "cell_type": "code",
   "execution_count": null,
   "id": "7c9955e4-5361-4f2e-b54a-2c1944cf9958",
   "metadata": {},
   "outputs": [],
   "source": []
  },
  {
   "cell_type": "code",
   "execution_count": null,
   "id": "7ce661bb-1eaa-4c97-9bb0-b0adcd7f435c",
   "metadata": {},
   "outputs": [],
   "source": []
  },
  {
   "cell_type": "code",
   "execution_count": 10,
   "id": "1adb4f5b-7eb0-4a88-91c1-5a6d5eace224",
   "metadata": {
    "tags": []
   },
   "outputs": [],
   "source": [
    "# QUESTION 26"
   ]
  },
  {
   "cell_type": "code",
   "execution_count": 11,
   "id": "62c912fa-b429-4a5c-b51b-a60af6c58a01",
   "metadata": {
    "tags": []
   },
   "outputs": [],
   "source": [
    "#IMPLEMENT A PROGRAM TO CALCULATE THE DISCOUNTED PRICE BASED ON DIFFERENT PURCHASE AMOUNTS USING ELIF STATEMENTS"
   ]
  },
  {
   "cell_type": "code",
   "execution_count": 42,
   "id": "776f6a47-421b-4c73-9dc7-5692f318f47e",
   "metadata": {
    "tags": []
   },
   "outputs": [
    {
     "name": "stdin",
     "output_type": "stream",
     "text": [
      "Enter the purchase amount: 700\n"
     ]
    },
    {
     "name": "stdout",
     "output_type": "stream",
     "text": [
      "The discounted price is: 665.0\n"
     ]
    }
   ],
   "source": [
    "purchase_amount=float(input(\"Enter the purchase amount:\"))\n",
    "if purchase_amount>=1000:\n",
    "    discounted_price = purcase_amount*0.9\n",
    "elif purchase_amount>=500:\n",
    "    discounted_price = purchase_amount*0.95\n",
    "else:\n",
    "    discounted_price = purchase_amount\n",
    "print(\"The discounted price is:\", discounted_price)"
   ]
  },
  {
   "cell_type": "code",
   "execution_count": null,
   "id": "b560968b-77bd-4ae4-b4f6-01c733ac1756",
   "metadata": {},
   "outputs": [],
   "source": []
  },
  {
   "cell_type": "code",
   "execution_count": null,
   "id": "00401df0-635b-428d-9277-3aeea4643a94",
   "metadata": {},
   "outputs": [],
   "source": []
  },
  {
   "cell_type": "code",
   "execution_count": 12,
   "id": "afb18744-748d-4cc2-a9ef-984ec1aef458",
   "metadata": {
    "tags": []
   },
   "outputs": [],
   "source": [
    "#QUESTION 27"
   ]
  },
  {
   "cell_type": "code",
   "execution_count": 13,
   "id": "a767ddaa-b745-4284-a170-ea0420d8b4a7",
   "metadata": {
    "tags": []
   },
   "outputs": [],
   "source": [
    "#DEVELOP A PROGRAM TO CALCULATE THE ELECTRICITY BILL BASED ON DIFFERENT CONSUMPTION SLABS USING ELIF STATEMENTS"
   ]
  },
  {
   "cell_type": "code",
   "execution_count": 44,
   "id": "366cc3a5-93ab-42e4-98cb-0637856f7458",
   "metadata": {
    "tags": []
   },
   "outputs": [
    {
     "name": "stdin",
     "output_type": "stream",
     "text": [
      "Enter the electricity consumption in units: 600\n"
     ]
    },
    {
     "name": "stdout",
     "output_type": "stream",
     "text": [
      "The electicity bill is: 601.0\n"
     ]
    }
   ],
   "source": [
    "consumption = float(input(\"Enter the electricity consumption in units:\"))\n",
    "if consumption<=100:\n",
    "    bill = consumption*0.50\n",
    "elif consumption<=200:\n",
    "    bill = 100*0.50+(consumption-100)*0.75\n",
    "elif consumption <=300:\n",
    "    bill = 100*0.50+100*0.75+(consumption-200)*1.00\n",
    "else:\n",
    "    bill = 100*0.50+100*0.75+100+1.00+(consumption-300)*1.25\n",
    "print(\"The electicity bill is:\",bill)"
   ]
  },
  {
   "cell_type": "code",
   "execution_count": null,
   "id": "f1be9b01-bb6a-4bdf-8287-9c4872252027",
   "metadata": {},
   "outputs": [],
   "source": []
  },
  {
   "cell_type": "code",
   "execution_count": null,
   "id": "a3daf309-d37a-4487-8c3c-59667915fea7",
   "metadata": {},
   "outputs": [],
   "source": []
  },
  {
   "cell_type": "code",
   "execution_count": 14,
   "id": "72644cbc-8f12-4fb6-8815-58895c0e1c2d",
   "metadata": {
    "tags": []
   },
   "outputs": [],
   "source": [
    "#QUESTION 28"
   ]
  },
  {
   "cell_type": "code",
   "execution_count": 15,
   "id": "8690e54e-ca99-4413-aefc-86f268571d69",
   "metadata": {
    "tags": []
   },
   "outputs": [],
   "source": [
    "# CREATE A PROGRAM TO DETERMINE THE TYPE OF QUADRILATERAL BASED ON ITS ANGLES AND SIDES USING ELIF STATEMENTS"
   ]
  },
  {
   "cell_type": "code",
   "execution_count": 47,
   "id": "3395cb4b-0489-4e54-a34d-0be45a9e09d4",
   "metadata": {
    "tags": []
   },
   "outputs": [
    {
     "name": "stdin",
     "output_type": "stream",
     "text": [
      "Enter the measurement of angle1: 60\n",
      "Enter the measurement of angle2: 60\n",
      "Enter the measurement of angle3: 90\n",
      "Enter the measurement of angle4: 5\n",
      "Enter the measurement of side1: 5\n",
      "Enter the measurement of side2: 6\n",
      "Enter the measurement of side3: 4\n",
      "Enter the measurement of side4: 4\n"
     ]
    },
    {
     "name": "stdout",
     "output_type": "stream",
     "text": [
      "The type of quadrilateral is: General Quadrilateral\n"
     ]
    }
   ],
   "source": [
    "angle1 = int(input(\"Enter the measurement of angle1:\"))\n",
    "angle2 = int(input(\"Enter the measurement of angle2:\"))\n",
    "angle3 = int(input(\"Enter the measurement of angle3:\"))\n",
    "angle4 = int(input(\"Enter the measurement of angle4:\"))\n",
    "\n",
    "side1 = int(input(\"Enter the measurement of side1:\"))\n",
    "side2 = int(input(\"Enter the measurement of side2:\"))\n",
    "side3 = int(input(\"Enter the measurement of side3:\"))\n",
    "side4 = int(input(\"Enter the measurement of side4:\"))\n",
    "\n",
    "if angle1== angle2==angle3==angle4==90 and side1 == side2==side3== side4:\n",
    "    quadrilateral_type=\"Rectangle\"\n",
    "elif side1 == side2==side3==side4:\n",
    "    quadrilateral_type=\"Rhombus\"\n",
    "elif side1 == side3 and side2 == side4:\n",
    "    quadrilateral_type = \"Trapezoid\"\n",
    "else:\n",
    "    quadrilateral_type=\"General Quadrilateral\"\n",
    "    print(\"The type of quadrilateral is:\", quadrilateral_type)"
   ]
  },
  {
   "cell_type": "code",
   "execution_count": null,
   "id": "d64faa5a-f920-4b92-b785-c46d417b426d",
   "metadata": {},
   "outputs": [],
   "source": []
  },
  {
   "cell_type": "code",
   "execution_count": null,
   "id": "25572fb8-0ce5-4b2e-ab57-c89d00070ae6",
   "metadata": {},
   "outputs": [],
   "source": []
  },
  {
   "cell_type": "code",
   "execution_count": 16,
   "id": "6472a158-7f99-490a-a64e-11bfe4455148",
   "metadata": {
    "tags": []
   },
   "outputs": [],
   "source": [
    "#QUESTION 29"
   ]
  },
  {
   "cell_type": "code",
   "execution_count": 17,
   "id": "46fbe9f4-6f80-405a-ba31-3d6660359971",
   "metadata": {
    "tags": []
   },
   "outputs": [],
   "source": [
    "#WRITE A PYTHON SCRIPT TO DETERMINE THE SEASON BASED ON A USER-PROVIDED MONTH USING ELIF STATEMENTS"
   ]
  },
  {
   "cell_type": "code",
   "execution_count": 48,
   "id": "39bb5414-707b-4eab-8391-00570ed657d3",
   "metadata": {
    "tags": []
   },
   "outputs": [
    {
     "name": "stdin",
     "output_type": "stream",
     "text": [
      "Enter the month: february\n"
     ]
    },
    {
     "name": "stdout",
     "output_type": "stream",
     "text": [
      "The season for  february is winter\n"
     ]
    }
   ],
   "source": [
    "month = input(\"Enter the month:\")\n",
    "if month.lower() in[\"decemeber\",\"january\",\"february\"]:\n",
    "    season = \"winter\"\n",
    "elif month.lower() in [\"march\",\"april\",\"may\"]:\n",
    "    season = \"spring\"\n",
    "elif month.lower() in[\"june\",\"july\",\"august\"]:\n",
    "    season = \"summer\"\n",
    "elif month.lower()in [\"september\",\"october\",\"november\"]:\n",
    "    season = \"autumn\"\n",
    "else:\n",
    "    season=\"unknown\"\n",
    "print(\"The season for \", month, \"is\", season)"
   ]
  },
  {
   "cell_type": "code",
   "execution_count": null,
   "id": "0c602cb0-fecc-4348-b929-a96a4cb3df49",
   "metadata": {},
   "outputs": [],
   "source": []
  },
  {
   "cell_type": "code",
   "execution_count": null,
   "id": "946cd753-0d53-46ae-b3ac-7c481b58bbf8",
   "metadata": {},
   "outputs": [],
   "source": []
  },
  {
   "cell_type": "code",
   "execution_count": 18,
   "id": "9dfb68ea-8779-4788-bca6-a88d058074e9",
   "metadata": {
    "tags": []
   },
   "outputs": [],
   "source": [
    "#QUESTION 30"
   ]
  },
  {
   "cell_type": "code",
   "execution_count": 19,
   "id": "9556e1bb-e0e9-476a-a2f3-0dc20bb5b873",
   "metadata": {
    "tags": []
   },
   "outputs": [],
   "source": [
    "#IMPLEMENT A PROGRAM TO DETERMINE THE TYPE OF A YEAR(LEAP OR COMMON) AND MONTH (30 OR 31 DAYS) USING ELIF STATEMENTS"
   ]
  },
  {
   "cell_type": "code",
   "execution_count": 21,
   "id": "bab2f37b-f4fc-4bbc-bf19-6ba0e19fe18d",
   "metadata": {
    "tags": []
   },
   "outputs": [
    {
     "name": "stdout",
     "output_type": "stream",
     "text": [
      "its a common year.\n",
      "This month has 30 days.\n"
     ]
    }
   ],
   "source": [
    "year = 2023\n",
    "month = 11\n",
    "if year%4==0 and (year%100!=0 or year%400 ==0):\n",
    "    print(\"its a leap year!\")\n",
    "else:\n",
    "    print(\"its a common year.\")\n",
    "if month in [4,6,9,11]:\n",
    "    print(\"This month has 30 days.\")\n",
    "elif month ==2:\n",
    "    print(\"This month has either 28 or 29 days.\")\n",
    "else:\n",
    "    print(\"This month has 31 days.\")"
   ]
  },
  {
   "cell_type": "code",
   "execution_count": null,
   "id": "bf26cf38-a50b-467a-ad14-6e617f7a96ec",
   "metadata": {},
   "outputs": [],
   "source": []
  },
  {
   "cell_type": "code",
   "execution_count": null,
   "id": "5e7f9b5a-69b7-4c53-a2a9-3805b7ae8255",
   "metadata": {},
   "outputs": [],
   "source": []
  },
  {
   "cell_type": "code",
   "execution_count": 1,
   "id": "1f0a92c5-4e55-4819-8068-8d76768a5d02",
   "metadata": {
    "tags": []
   },
   "outputs": [],
   "source": [
    "#BASIC LEVEL:"
   ]
  },
  {
   "cell_type": "code",
   "execution_count": 2,
   "id": "da4b93a7-2c4f-430d-b7bb-df01f623b43b",
   "metadata": {
    "tags": []
   },
   "outputs": [],
   "source": [
    "#QUESTION 1"
   ]
  },
  {
   "cell_type": "code",
   "execution_count": 3,
   "id": "87f892c3-e2a4-4b2f-b513-0e26a1707641",
   "metadata": {
    "tags": []
   },
   "outputs": [],
   "source": [
    "# WRITE A PYTHON PROGRAM THAT CHECKS IF A GIVEN NUMBER IS POSITIVE, NEGATIVE, OR ZER0."
   ]
  },
  {
   "cell_type": "code",
   "execution_count": 83,
   "id": "a6459684-ebec-4dca-8e5b-83ae8bf697ff",
   "metadata": {
    "tags": []
   },
   "outputs": [
    {
     "name": "stdin",
     "output_type": "stream",
     "text": [
      "Enter a number: 80\n"
     ]
    },
    {
     "name": "stdout",
     "output_type": "stream",
     "text": [
      "The number is positive.\n"
     ]
    }
   ],
   "source": [
    "number= float(input(\"Enter a number:\"))\n",
    "if number>0:\n",
    "    print(\"The number is positive.\")\n",
    "elif number<0:\n",
    "    print(\"The number is negative.\")\n",
    "else:\n",
    "    print(\"The number is zero.\")"
   ]
  },
  {
   "cell_type": "code",
   "execution_count": null,
   "id": "34096094-8d61-440e-9e2f-9a5462382ef9",
   "metadata": {},
   "outputs": [],
   "source": []
  },
  {
   "cell_type": "code",
   "execution_count": null,
   "id": "d336e86f-c854-4c17-a14f-bc6483832498",
   "metadata": {},
   "outputs": [],
   "source": []
  },
  {
   "cell_type": "code",
   "execution_count": 4,
   "id": "598bc24b-e9bf-4d6b-bc79-3f224493b23b",
   "metadata": {
    "tags": []
   },
   "outputs": [],
   "source": [
    "#QUESTION 2"
   ]
  },
  {
   "cell_type": "code",
   "execution_count": 5,
   "id": "13dfb314-4000-4ea8-9b87-cbf3367cfa18",
   "metadata": {
    "tags": []
   },
   "outputs": [],
   "source": [
    "# CREATE A PROGRAM TO DETERMINE IF A PERSON IS ELIGIBLE TO VOTE BASED ON THEIR AGE."
   ]
  },
  {
   "cell_type": "code",
   "execution_count": 84,
   "id": "5948bf48-ded3-4caf-8666-a4bb0c1ca6ca",
   "metadata": {
    "tags": []
   },
   "outputs": [
    {
     "name": "stdin",
     "output_type": "stream",
     "text": [
      "Enter your age: 19\n"
     ]
    },
    {
     "name": "stdout",
     "output_type": "stream",
     "text": [
      "You are eligible to vote!\n"
     ]
    }
   ],
   "source": [
    "age = int(input(\"Enter your age:\"))\n",
    "if age>=18:\n",
    "    print(\"You are eligible to vote!\")\n",
    "else:\n",
    "    print(\"You are not eligible to vote yet.\")"
   ]
  },
  {
   "cell_type": "code",
   "execution_count": null,
   "id": "2358a7bb-2bb1-4b38-8039-e208884ef43d",
   "metadata": {},
   "outputs": [],
   "source": []
  },
  {
   "cell_type": "code",
   "execution_count": null,
   "id": "7f4437fe-793c-450d-af5f-a16d9fc41408",
   "metadata": {},
   "outputs": [],
   "source": []
  },
  {
   "cell_type": "code",
   "execution_count": 6,
   "id": "f02bab36-27e5-4b2a-99a3-99e4fdf16aae",
   "metadata": {
    "tags": []
   },
   "outputs": [],
   "source": [
    "# QUESTION 3"
   ]
  },
  {
   "cell_type": "code",
   "execution_count": 7,
   "id": "38aadf88-4acf-4b62-aa58-0c0e73500477",
   "metadata": {
    "tags": []
   },
   "outputs": [],
   "source": [
    "#WRITE A PROGRAM TO FIND THE MAXIMUM OF TWO GIVEN NUMBERS USING CONDITIONAL STATEMENTS."
   ]
  },
  {
   "cell_type": "code",
   "execution_count": 86,
   "id": "51f75cf2-7c4d-4e59-9a12-6fd2c9df7174",
   "metadata": {
    "tags": []
   },
   "outputs": [
    {
     "name": "stdin",
     "output_type": "stream",
     "text": [
      "Enter the first number: 45\n",
      "Enter the second number: 65\n"
     ]
    },
    {
     "name": "stdout",
     "output_type": "stream",
     "text": [
      "The maximum number is 65.0\n"
     ]
    }
   ],
   "source": [
    "num1 = float(input(\"Enter the first number:\"))\n",
    "num2 = float(input(\"Enter the second number:\"))\n",
    "if num1>num2:\n",
    "    print(\"The maximum number is\",num1)\n",
    "elif num1<num2:\n",
    "    print(\"The maximum number is\",num2)\n",
    "else:\n",
    "    print(\"Both numbers are equal\")"
   ]
  },
  {
   "cell_type": "code",
   "execution_count": null,
   "id": "291aae3c-c73f-4090-86aa-85824429e30d",
   "metadata": {},
   "outputs": [],
   "source": []
  },
  {
   "cell_type": "code",
   "execution_count": null,
   "id": "0e8de9a3-0b8b-4e07-b19d-5fd3b28a9a9c",
   "metadata": {},
   "outputs": [],
   "source": []
  },
  {
   "cell_type": "code",
   "execution_count": 8,
   "id": "4ec28127-f420-4cfd-8c50-0b045177ef40",
   "metadata": {
    "tags": []
   },
   "outputs": [],
   "source": [
    "# QUESTION 4"
   ]
  },
  {
   "cell_type": "code",
   "execution_count": 9,
   "id": "77e44dc1-4aac-43da-9a90-c0abe257e385",
   "metadata": {
    "tags": []
   },
   "outputs": [],
   "source": [
    "# DEVELOP A PROGRAM THAT CALCULATES THE GRADE OF A STUDENT BASED ON THEIR EXAM SCORE"
   ]
  },
  {
   "cell_type": "code",
   "execution_count": 87,
   "id": "2936e609-8424-4d6f-9c32-171269a60b02",
   "metadata": {
    "tags": []
   },
   "outputs": [
    {
     "name": "stdin",
     "output_type": "stream",
     "text": [
      "Enter your exam score: 70\n"
     ]
    },
    {
     "name": "stdout",
     "output_type": "stream",
     "text": [
      "Your grade is C\n"
     ]
    }
   ],
   "source": [
    "score = float(input(\"Enter your exam score:\"))\n",
    "if score>=90:\n",
    "    grade =\"A\"\n",
    "elif score>=80:\n",
    "    grade=\"B\"\n",
    "elif score>=70:\n",
    "    grade=\"C\"\n",
    "elif score>=60:\n",
    "    grade = \"D\"\n",
    "else:\n",
    "    grade =\"F\"\n",
    "print(\"Your grade is\",grade)"
   ]
  },
  {
   "cell_type": "code",
   "execution_count": null,
   "id": "3054739c-35b2-4306-a9bc-308189ffe429",
   "metadata": {},
   "outputs": [],
   "source": []
  },
  {
   "cell_type": "code",
   "execution_count": null,
   "id": "6b7548bf-6171-4644-b519-b86441761a9c",
   "metadata": {},
   "outputs": [],
   "source": []
  },
  {
   "cell_type": "code",
   "execution_count": 10,
   "id": "5d29b2e4-d435-464a-a81e-93c428bdba16",
   "metadata": {
    "tags": []
   },
   "outputs": [],
   "source": [
    "# QUESTION 5"
   ]
  },
  {
   "cell_type": "code",
   "execution_count": 11,
   "id": "33c93c6a-3a11-496f-a529-f350961f642b",
   "metadata": {
    "tags": []
   },
   "outputs": [],
   "source": [
    "# CREATE A PROGRAM THAT CHECKS IF A YEAR IS A LEAP YEAR OR NOT."
   ]
  },
  {
   "cell_type": "code",
   "execution_count": 88,
   "id": "fa7639f7-3378-4271-b0da-aaed4f21ffed",
   "metadata": {
    "tags": []
   },
   "outputs": [
    {
     "name": "stdin",
     "output_type": "stream",
     "text": [
      "enter a year: 2023\n"
     ]
    },
    {
     "name": "stdout",
     "output_type": "stream",
     "text": [
      "2023 is not a leap year.\n"
     ]
    }
   ],
   "source": [
    "year =int(input(\"enter a year:\"))\n",
    "if year%4==0:\n",
    "    if year%100==0:\n",
    "        if year %400==0:\n",
    "            print(year,\"is a leap year!\")\n",
    "        else:\n",
    "            print(year,\"is not a leap year!\")\n",
    "    else:\n",
    "        print(year, \"is a leap year!\")\n",
    "else:\n",
    "    print(year,\"is not a leap year.\")"
   ]
  },
  {
   "cell_type": "code",
   "execution_count": null,
   "id": "02bb4856-ce1c-440a-bda5-c0585f312ece",
   "metadata": {},
   "outputs": [],
   "source": []
  },
  {
   "cell_type": "code",
   "execution_count": null,
   "id": "7649bcad-7112-420e-9efe-6c02909311cd",
   "metadata": {},
   "outputs": [],
   "source": []
  },
  {
   "cell_type": "code",
   "execution_count": 12,
   "id": "5f3bd020-0bf3-4530-880f-6ce968b64c60",
   "metadata": {
    "tags": []
   },
   "outputs": [],
   "source": [
    "# QUESTION 6"
   ]
  },
  {
   "cell_type": "code",
   "execution_count": 13,
   "id": "88ca7b07-c758-4837-8588-6afc5b83013e",
   "metadata": {
    "tags": []
   },
   "outputs": [],
   "source": [
    "# WRITE A PROGRAM TO CLASSIFY A TRIANGLE BASED ON ITS SIDES LENGTHS."
   ]
  },
  {
   "cell_type": "code",
   "execution_count": 89,
   "id": "506e63e1-ee10-4572-bc8b-0b4b2f91e007",
   "metadata": {
    "tags": []
   },
   "outputs": [
    {
     "name": "stdin",
     "output_type": "stream",
     "text": [
      "Enter the length of the first side: 45\n",
      "Enter the length of the second side: 45\n",
      "Enter the length of the third side: 90\n"
     ]
    },
    {
     "name": "stdout",
     "output_type": "stream",
     "text": [
      "Its an isosceles triangle!\n"
     ]
    }
   ],
   "source": [
    "side1 =float(input(\"Enter the length of the first side:\"))\n",
    "side2= float(input(\"Enter the length of the second side:\"))\n",
    "side3 = float(input(\"Enter the length of the third side:\"))\n",
    "if side1 == side2==side3:\n",
    "    print(\"its an equilateral triangle!\")\n",
    "elif side1 == side2 or side1==side3 or side2==side3:\n",
    "    print(\"Its an isosceles triangle!\")\n",
    "else:\n",
    "    print(\"Its a scalene triangle!\")"
   ]
  },
  {
   "cell_type": "code",
   "execution_count": null,
   "id": "37721500-a836-4708-9fef-b6c89db1a590",
   "metadata": {},
   "outputs": [],
   "source": []
  },
  {
   "cell_type": "code",
   "execution_count": null,
   "id": "0a9b3b37-e7f6-41bc-a692-1adc23bea860",
   "metadata": {},
   "outputs": [],
   "source": []
  },
  {
   "cell_type": "code",
   "execution_count": 14,
   "id": "fbc0c748-ef31-475c-a281-825e9c964429",
   "metadata": {
    "tags": []
   },
   "outputs": [],
   "source": [
    "# QUESTION 7"
   ]
  },
  {
   "cell_type": "code",
   "execution_count": 15,
   "id": "5638fa01-8363-4dce-aae5-e0947c542a12",
   "metadata": {
    "tags": []
   },
   "outputs": [],
   "source": [
    "# BUILD A PROGRAM THAT DETERMINES THE LARGEST OF THREE GIVEN NUMBERS."
   ]
  },
  {
   "cell_type": "code",
   "execution_count": 90,
   "id": "58feb0c9-eb3f-46d5-8c9a-cf0ede00ef63",
   "metadata": {
    "tags": []
   },
   "outputs": [
    {
     "name": "stdin",
     "output_type": "stream",
     "text": [
      "Enter the first number: 19\n",
      "Enter the second number: 15\n",
      "Enter the third number: 13\n"
     ]
    },
    {
     "name": "stdout",
     "output_type": "stream",
     "text": [
      "The largest number is: 19.0\n"
     ]
    }
   ],
   "source": [
    "num1=float(input(\"Enter the first number:\"))\n",
    "num2=float(input(\"Enter the second number:\"))\n",
    "num3=float(input(\"Enter the third number:\"))\n",
    "largest = max(num1,num2,num3)\n",
    "print(\"The largest number is:\",largest)"
   ]
  },
  {
   "cell_type": "code",
   "execution_count": null,
   "id": "af6e0f45-fbf5-44af-8e8b-b635c2b78494",
   "metadata": {},
   "outputs": [],
   "source": []
  },
  {
   "cell_type": "code",
   "execution_count": null,
   "id": "cba424b6-4bd2-48b0-be94-9911f4e4154c",
   "metadata": {},
   "outputs": [],
   "source": []
  },
  {
   "cell_type": "code",
   "execution_count": 16,
   "id": "7be9a634-9095-47a8-b3fe-65069722e68a",
   "metadata": {
    "tags": []
   },
   "outputs": [],
   "source": [
    "#QUESTION 8"
   ]
  },
  {
   "cell_type": "code",
   "execution_count": 17,
   "id": "671adfab-351c-4c14-8618-78198c0f1e5b",
   "metadata": {
    "tags": []
   },
   "outputs": [],
   "source": [
    "# DEVELOP A PROGRAM THAT CHECKS WHETHER A CHARACTER IS A VOWEL OR A CONSONANT."
   ]
  },
  {
   "cell_type": "code",
   "execution_count": 93,
   "id": "2b3f89c2-8bed-4e40-90ba-2d12763182f6",
   "metadata": {
    "tags": []
   },
   "outputs": [
    {
     "name": "stdin",
     "output_type": "stream",
     "text": [
      "Enter a character: n\n"
     ]
    },
    {
     "name": "stdout",
     "output_type": "stream",
     "text": [
      "The character n is a consonant!\n"
     ]
    }
   ],
   "source": [
    "character= input(\"Enter a character:\")\n",
    "if character.lower() in ['a','e','i','o','u']:\n",
    "    print(\"The character\",character,\"is a vowel!\")\n",
    "else:\n",
    "    print(\"The character\",character,\"is a consonant!\")"
   ]
  },
  {
   "cell_type": "code",
   "execution_count": null,
   "id": "e8c0f661-bfbe-44b1-b090-f08a0d70ffbb",
   "metadata": {},
   "outputs": [],
   "source": []
  },
  {
   "cell_type": "code",
   "execution_count": null,
   "id": "7e789094-6b65-4076-8a00-53597812e5ad",
   "metadata": {},
   "outputs": [],
   "source": []
  },
  {
   "cell_type": "code",
   "execution_count": 18,
   "id": "8c098377-303e-4f4c-b385-a3cb09ddb5ad",
   "metadata": {
    "tags": []
   },
   "outputs": [],
   "source": [
    "#QUESTION 9"
   ]
  },
  {
   "cell_type": "code",
   "execution_count": 19,
   "id": "76bd406f-3c90-4ff2-90e7-37a2c572d504",
   "metadata": {
    "tags": []
   },
   "outputs": [],
   "source": [
    "#CREATE A PROGRAM TO CALCULATE THE TOTAL COST OF A SHOPPING CART BASED ON DISCOUNTS."
   ]
  },
  {
   "cell_type": "code",
   "execution_count": 97,
   "id": "15dd688b-df68-4c9b-b455-b38eee8480e6",
   "metadata": {
    "tags": []
   },
   "outputs": [
    {
     "name": "stdout",
     "output_type": "stream",
     "text": [
      "The total cost of the shopping cart after a 10 % discount is: 135.0\n"
     ]
    }
   ],
   "source": [
    "item_prices=[10,20,30,40,50]\n",
    "discount_percentage=10\n",
    "total_cost = sum(item_prices)\n",
    "discount_amount=(discount_percentage/100)*total_cost\n",
    "total_cost_after_discount=total_cost-discount_amount\n",
    "print(\"The total cost of the shopping cart after a\",discount_percentage,\"% discount is:\",total_cost_after_discount)\n",
    "                 "
   ]
  },
  {
   "cell_type": "code",
   "execution_count": null,
   "id": "7cb96427-bc6b-4855-8ff6-dd3844f095b6",
   "metadata": {},
   "outputs": [],
   "source": []
  },
  {
   "cell_type": "code",
   "execution_count": null,
   "id": "a2532f88-1323-4d87-9601-c6443b30bf51",
   "metadata": {},
   "outputs": [],
   "source": []
  },
  {
   "cell_type": "code",
   "execution_count": 20,
   "id": "cf1bfd56-abe1-4ebd-9a65-2085b89abc48",
   "metadata": {
    "tags": []
   },
   "outputs": [],
   "source": [
    "#QUESTION 10 "
   ]
  },
  {
   "cell_type": "code",
   "execution_count": 21,
   "id": "96fa10b3-bccc-46af-bf94-4cd0fb2e8a20",
   "metadata": {
    "tags": []
   },
   "outputs": [],
   "source": [
    "#WRITE A PROGRAM THAT CHECKS IF A GIVEN NUMBER IS EVEN OR ODD."
   ]
  },
  {
   "cell_type": "code",
   "execution_count": 98,
   "id": "9a2a9544-14e1-41ab-bf08-821407a157f3",
   "metadata": {
    "tags": []
   },
   "outputs": [
    {
     "name": "stdin",
     "output_type": "stream",
     "text": [
      "Enter a number: 23\n"
     ]
    },
    {
     "name": "stdout",
     "output_type": "stream",
     "text": [
      "The number 23 is odd!\n"
     ]
    }
   ],
   "source": [
    "number = int(input(\"Enter a number:\"))\n",
    "if number % 2 == 0:\n",
    "    print(\"The number\", number, \"is even!\")\n",
    "else:\n",
    "    print(\"The number\",number,\"is odd!\")"
   ]
  },
  {
   "cell_type": "code",
   "execution_count": null,
   "id": "36e1f209-c87d-4fbe-8f8c-80863c1cf7ff",
   "metadata": {},
   "outputs": [],
   "source": []
  },
  {
   "cell_type": "code",
   "execution_count": null,
   "id": "257ff96c-d26e-45cc-a88a-774f99998a2d",
   "metadata": {},
   "outputs": [],
   "source": []
  },
  {
   "cell_type": "code",
   "execution_count": 22,
   "id": "fbeb1acc-6969-4d12-aa85-806728c247bc",
   "metadata": {
    "tags": []
   },
   "outputs": [],
   "source": [
    "#INTERMEDIATE LEVEL:"
   ]
  },
  {
   "cell_type": "code",
   "execution_count": 23,
   "id": "9ffd13c3-1c70-41d9-9bc0-5491cb85213d",
   "metadata": {
    "tags": []
   },
   "outputs": [],
   "source": [
    "#QUESTION 11"
   ]
  },
  {
   "cell_type": "code",
   "execution_count": 24,
   "id": "24f7390e-1b01-4b02-8f8d-e8014c55f5af",
   "metadata": {
    "tags": []
   },
   "outputs": [],
   "source": [
    "# WRITE A PROGRAM THAT CALCULATE THE ROOTS OF A QUADRATIC EQUATION."
   ]
  },
  {
   "cell_type": "code",
   "execution_count": 104,
   "id": "a3699c6c-3008-4fc6-9dc9-689acb3f4ce6",
   "metadata": {
    "tags": []
   },
   "outputs": [
    {
     "name": "stdin",
     "output_type": "stream",
     "text": [
      "Enter the coefficient a: 2\n",
      "Enter the coefficient b: 5\n",
      "Enter the coefficient c: 3\n"
     ]
    },
    {
     "name": "stdout",
     "output_type": "stream",
     "text": [
      "The roots of the quadratic equation are: (-1+0j) and (-1.5+0j)\n"
     ]
    }
   ],
   "source": [
    "import cmath\n",
    "a = float(input(\"Enter the coefficient a:\"))\n",
    "b = float(input(\"Enter the coefficient b:\"))\n",
    "c = float(input(\"Enter the coefficient c:\"))\n",
    "discriminant = (b**2)-(4*a*c)\n",
    "root1 = (-b+cmath.sqrt(discriminant))/(2*a)\n",
    "root2 = (-b-cmath.sqrt(discriminant))/(2*a)\n",
    "print(\"The roots of the quadratic equation are:\", root1, \"and\",root2)"
   ]
  },
  {
   "cell_type": "code",
   "execution_count": null,
   "id": "c9293e36-d5c1-483e-9ba2-372c5e08f96a",
   "metadata": {},
   "outputs": [],
   "source": []
  },
  {
   "cell_type": "code",
   "execution_count": null,
   "id": "8261c31c-f082-4ede-a537-859794548a64",
   "metadata": {},
   "outputs": [],
   "source": []
  },
  {
   "cell_type": "code",
   "execution_count": 25,
   "id": "711c22e6-cd53-4d7a-bfe4-0734a532e4d1",
   "metadata": {
    "tags": []
   },
   "outputs": [],
   "source": [
    "#QUESTION 12"
   ]
  },
  {
   "cell_type": "code",
   "execution_count": 26,
   "id": "8f02e762-6578-43ae-8549-03373dc42e5c",
   "metadata": {
    "tags": []
   },
   "outputs": [],
   "source": [
    "# CREATE A PROGRAM THAT DETERMINES THE DAY OF THE WEEK BASED ON THE DAY NUMBER(1-7)"
   ]
  },
  {
   "cell_type": "code",
   "execution_count": 106,
   "id": "750a03d1-7883-4a62-aa73-a6afe801b518",
   "metadata": {
    "tags": []
   },
   "outputs": [
    {
     "name": "stdin",
     "output_type": "stream",
     "text": [
      "Enter the day number(1-7): 6\n"
     ]
    },
    {
     "name": "stdout",
     "output_type": "stream",
     "text": [
      "The day number 6 corresponds to Saturday\n"
     ]
    }
   ],
   "source": [
    "day_number=int(input(\"Enter the day number(1-7):\"))\n",
    "days_of_week =['Monday','Tuesday','Wednesday','Thursday','Friday','Saturday','sunday']\n",
    "if day_number>=1 and day_number<=7:\n",
    "    day_of_week = days_of_week[day_number-1]\n",
    "    print(\"The day number\",day_number,\"corresponds to\",day_of_week)\n",
    "else:\n",
    "    print(\"invalid day number.please enter a number between 1 and 7.\")\n",
    "    "
   ]
  },
  {
   "cell_type": "code",
   "execution_count": null,
   "id": "b0146181-8b60-446e-983d-c30ab5111db7",
   "metadata": {},
   "outputs": [],
   "source": []
  },
  {
   "cell_type": "code",
   "execution_count": null,
   "id": "57c148fd-8bfa-4e9f-80e5-c36cc52f00b1",
   "metadata": {},
   "outputs": [],
   "source": []
  },
  {
   "cell_type": "code",
   "execution_count": 27,
   "id": "bb940b0a-e521-4659-a5ce-8941afe443a2",
   "metadata": {
    "tags": []
   },
   "outputs": [],
   "source": [
    "#QUESTION 13"
   ]
  },
  {
   "cell_type": "code",
   "execution_count": 28,
   "id": "6415057b-4354-4d74-a932-a10a94e52ac4",
   "metadata": {
    "tags": []
   },
   "outputs": [],
   "source": [
    "# DEVELOP A PROGRAM THAT CALCULATES THE FACTORIAL OF A GIVEN NUMBER USING RECURSION."
   ]
  },
  {
   "cell_type": "code",
   "execution_count": 108,
   "id": "1710fc39-f279-4ea0-888e-ad05ef53cabe",
   "metadata": {
    "tags": []
   },
   "outputs": [
    {
     "name": "stdin",
     "output_type": "stream",
     "text": [
      "Enter a number: 5\n"
     ]
    },
    {
     "name": "stdout",
     "output_type": "stream",
     "text": [
      "The factorial of 5 is 120\n"
     ]
    }
   ],
   "source": [
    "def factorial(n):\n",
    "    if n==0:\n",
    "        return 1\n",
    "    else:\n",
    "        return n*factorial(n-1)\n",
    "number=int(input(\"Enter a number:\"))\n",
    "result = factorial(number)\n",
    "print(\"The factorial of\", number,\"is\", result)"
   ]
  },
  {
   "cell_type": "code",
   "execution_count": null,
   "id": "469bbc0b-b597-4d7f-a0fa-94eb0c1c1e52",
   "metadata": {},
   "outputs": [],
   "source": []
  },
  {
   "cell_type": "code",
   "execution_count": null,
   "id": "4862adaf-e363-48c0-99cb-308c019e2cfe",
   "metadata": {},
   "outputs": [],
   "source": []
  },
  {
   "cell_type": "code",
   "execution_count": 29,
   "id": "fc537368-b086-4b41-b45f-ab96cada66b8",
   "metadata": {
    "tags": []
   },
   "outputs": [],
   "source": [
    "#QUESTION 14"
   ]
  },
  {
   "cell_type": "code",
   "execution_count": 30,
   "id": "f25c9cc3-3e1e-4028-8661-43e2f9e5791f",
   "metadata": {
    "tags": []
   },
   "outputs": [],
   "source": [
    "# WRITE A PROGRAM TO FIND THE LARGEST AMONG THREE NUMBERS WITHOUT USING THE MAX() FUNCTION."
   ]
  },
  {
   "cell_type": "code",
   "execution_count": 1,
   "id": "c9383546-47e7-4fda-b68c-a6868ee7126d",
   "metadata": {},
   "outputs": [
    {
     "name": "stdout",
     "output_type": "stream",
     "text": [
      "The largest number is: 10\n"
     ]
    }
   ],
   "source": [
    "def find_largest(num1,num2,num3):\n",
    "    if num1>=num2 and num1>= num3:\n",
    "        return num1\n",
    "    elif num2>=num1 and num2>=num3:\n",
    "        return num2\n",
    "    else:\n",
    "        return num3\n",
    "num1 = 10\n",
    "num2 = 5\n",
    "num3 = 8\n",
    "largest = find_largest(num1,num2,num3)\n",
    "print(\"The largest number is:\", largest)"
   ]
  },
  {
   "cell_type": "code",
   "execution_count": null,
   "id": "e0f8f7db-f69a-4c2e-8533-d803f9f1aafe",
   "metadata": {},
   "outputs": [],
   "source": []
  },
  {
   "cell_type": "code",
   "execution_count": null,
   "id": "5a395bf0-e807-483c-a96d-f23a654b30db",
   "metadata": {},
   "outputs": [],
   "source": []
  },
  {
   "cell_type": "code",
   "execution_count": 31,
   "id": "989b47b4-cb10-4ee8-b237-01f4f3a5cd6c",
   "metadata": {
    "tags": []
   },
   "outputs": [],
   "source": [
    "# QUESTION 15"
   ]
  },
  {
   "cell_type": "code",
   "execution_count": 32,
   "id": "0d40b4c3-f65e-4029-b694-052065e0711e",
   "metadata": {
    "tags": []
   },
   "outputs": [],
   "source": [
    "# CREATE A PROGRAM THAT SIMULATES A BASIC ATM TRANSACTION MENU"
   ]
  },
  {
   "cell_type": "code",
   "execution_count": 1,
   "id": "0c4bba76-1a12-4ad7-8711-0c7bbcbefd1d",
   "metadata": {},
   "outputs": [
    {
     "name": "stdout",
     "output_type": "stream",
     "text": [
      "ATM MENU\n",
      "1.Check Balance\n",
      "2.Withdraw Money\n",
      "3.Deposit Money\n",
      "4.Quit\n"
     ]
    },
    {
     "name": "stdin",
     "output_type": "stream",
     "text": [
      "Enter your choice(1-4): 4\n"
     ]
    },
    {
     "name": "stdout",
     "output_type": "stream",
     "text": [
      "Thank you for using the ATM!\n"
     ]
    }
   ],
   "source": [
    "def display_menu():\n",
    "    print(\"ATM MENU\")\n",
    "    print(\"1.Check Balance\")\n",
    "    print(\"2.Withdraw Money\")\n",
    "    print(\"3.Deposit Money\")\n",
    "    print(\"4.Quit\")\n",
    "def check_balance(balance):\n",
    "    print(\"Your current balance is:\",balance)\n",
    "def withdraw_money(balance):\n",
    "    amount=float(input(\"Enter the amount to withdraw:\"))\n",
    "    if amount>balance:\n",
    "        print(\"Insufficient funds!\")\n",
    "    else:\n",
    "        balance-=amount\n",
    "        print(\"Withdrawal successful.Remaining balance:\",balance)\n",
    "    return balance\n",
    "def deposit_money(balance):\n",
    "    amount = float(input(\"Enter the amount to deposit:\"))\n",
    "    balance+=amount\n",
    "    print(\"deposit successful.Updated balance:\",balance)\n",
    "    return balance\n",
    "def atm_transaction():\n",
    "    balance=1000.0\n",
    "    display_menu()\n",
    "    choice=input(\"Enter your choice(1-4):\")\n",
    "    while choice!='4':\n",
    "        if choice=='1':\n",
    "            check_balance(balance)\n",
    "        elif choice=='2':\n",
    "            balance=withdraw_money(balance)\n",
    "        elif choice=='3':\n",
    "            balance=deposit_money(balance)\n",
    "        else:\n",
    "            print(\"invalid choice.please try again.\")\n",
    "            display_menu()\n",
    "            choice=input(\"Enter your choice(1-4):\")\n",
    "    print(\"Thank you for using the ATM!\")\n",
    "atm_transaction()"
   ]
  },
  {
   "cell_type": "code",
   "execution_count": null,
   "id": "04a5af82-80ef-431c-bb64-96f355a3980c",
   "metadata": {},
   "outputs": [],
   "source": []
  },
  {
   "cell_type": "code",
   "execution_count": null,
   "id": "eb1cddec-e6d8-43bd-94df-f2bf97768167",
   "metadata": {},
   "outputs": [],
   "source": []
  },
  {
   "cell_type": "code",
   "execution_count": 33,
   "id": "9a0f8d09-01c9-4da4-98df-96b4597848a5",
   "metadata": {
    "tags": []
   },
   "outputs": [],
   "source": [
    "#QUESTION 16"
   ]
  },
  {
   "cell_type": "code",
   "execution_count": 34,
   "id": "89e4c800-522f-4c8e-84e8-c88e8d5ab723",
   "metadata": {
    "tags": []
   },
   "outputs": [],
   "source": [
    "#BUILD A PROGRAM THAT CHECKS IF A GIVEN STRING IS A PALINDROME OR NOT"
   ]
  },
  {
   "cell_type": "code",
   "execution_count": 3,
   "id": "4035a855-0767-4a7d-a468-b62a3f244621",
   "metadata": {},
   "outputs": [
    {
     "name": "stdout",
     "output_type": "stream",
     "text": [
      "The string is a palindrome.\n"
     ]
    }
   ],
   "source": [
    "def is_palindrome(string):\n",
    "    string=string.lower()\n",
    "    reversed_string=string[::-1]\n",
    "    if string == reversed_string:\n",
    "        return True\n",
    "    else:\n",
    "        return False\n",
    "input_string=\"Madam\"\n",
    "if is_palindrome(input_string):\n",
    "    print(\"The string is a palindrome.\")\n",
    "else:\n",
    "    print(\"The string is not a palindrome.\")\n",
    "        "
   ]
  },
  {
   "cell_type": "code",
   "execution_count": null,
   "id": "fb3199b5-e21d-47ba-9356-f5b05dac864f",
   "metadata": {},
   "outputs": [],
   "source": []
  },
  {
   "cell_type": "code",
   "execution_count": null,
   "id": "2a209c56-5763-4cb4-b62f-f3c15a64814a",
   "metadata": {},
   "outputs": [],
   "source": []
  },
  {
   "cell_type": "code",
   "execution_count": 35,
   "id": "def2b948-d644-4eb3-90d2-7f41ac2f8deb",
   "metadata": {
    "tags": []
   },
   "outputs": [],
   "source": [
    "#QUESTION 17"
   ]
  },
  {
   "cell_type": "code",
   "execution_count": 36,
   "id": "2ad6c7d9-08ff-4f19-92a4-d9ad3c4693ef",
   "metadata": {
    "tags": []
   },
   "outputs": [],
   "source": [
    "# WRITE A PROGRAM THAT CALCULATES THE AVERAGE OF A LIST OF NUMBERS, EXCLUDING THE SMALLEST AND LARGEST VALUES."
   ]
  },
  {
   "cell_type": "code",
   "execution_count": 2,
   "id": "7903e3ab-f53c-4d5b-972a-24e321c0b598",
   "metadata": {},
   "outputs": [
    {
     "name": "stdout",
     "output_type": "stream",
     "text": [
      "The average of the list, excluding the smallest and largest values, is: 5.333333333333333\n"
     ]
    }
   ],
   "source": [
    "def calculate_average(numbers):\n",
    "    if len(numbers)<3:\n",
    "        return\"please provide at least three numbers to caculate the average.\"\n",
    "    sorted_numbers=sorted(numbers)\n",
    "    excluded_numbers=sorted_numbers[1:-1]\n",
    "    average= sum(excluded_numbers)/len(excluded_numbers)\n",
    "    return average\n",
    "numbers=[5,2,8,3,9]\n",
    "average = calculate_average(numbers)\n",
    "print(\"The average of the list, excluding the smallest and largest values, is:\",average)"
   ]
  },
  {
   "cell_type": "code",
   "execution_count": null,
   "id": "4f30d6f0-e565-4b10-9a84-11dcafbd5c04",
   "metadata": {},
   "outputs": [],
   "source": []
  },
  {
   "cell_type": "code",
   "execution_count": null,
   "id": "6175ac20-5be2-47bb-b9c6-e21c9a313d38",
   "metadata": {},
   "outputs": [],
   "source": []
  },
  {
   "cell_type": "code",
   "execution_count": 37,
   "id": "b3d5569c-5a25-459c-9617-265b2b605996",
   "metadata": {
    "tags": []
   },
   "outputs": [],
   "source": [
    "#QUESTION 18"
   ]
  },
  {
   "cell_type": "code",
   "execution_count": 38,
   "id": "2e26af74-ce45-482f-b33f-cbf1866f7177",
   "metadata": {
    "tags": []
   },
   "outputs": [],
   "source": [
    "# DEVELOP A PROGRAM THAT CONVERTS A GIVEN TEMPERATURE FROM CELSIUS TO FAHRENHEIT."
   ]
  },
  {
   "cell_type": "code",
   "execution_count": 5,
   "id": "338f0e7d-0109-4e0f-901e-7312f6b3faf4",
   "metadata": {},
   "outputs": [
    {
     "name": "stdout",
     "output_type": "stream",
     "text": [
      "The temperature 25 degrees Celsius is equal to 77.0 degrees Fahrenheit.\n"
     ]
    }
   ],
   "source": [
    "#Fahrenheit = (Celsius*9/5)+32\n",
    "def celsius_to_fahrenheit(celsius):\n",
    "    fahrenheit = (celsius*9/5)+32\n",
    "    return fahrenheit\n",
    "celsius = 25 \n",
    "fahrenheit = celsius_to_fahrenheit(celsius)\n",
    "print(\"The temperature\",celsius,\"degrees Celsius is equal to\", fahrenheit,\"degrees Fahrenheit.\")"
   ]
  },
  {
   "cell_type": "code",
   "execution_count": null,
   "id": "031efdbf-a216-4260-8b80-4db445742384",
   "metadata": {},
   "outputs": [],
   "source": []
  },
  {
   "cell_type": "code",
   "execution_count": null,
   "id": "236c5743-003d-445f-aa66-ff4ff4892a93",
   "metadata": {},
   "outputs": [],
   "source": []
  },
  {
   "cell_type": "code",
   "execution_count": 39,
   "id": "18d03157-0a5e-4c9b-8594-7c6b09dc2b10",
   "metadata": {
    "tags": []
   },
   "outputs": [],
   "source": [
    "#QUESTION 19"
   ]
  },
  {
   "cell_type": "code",
   "execution_count": 40,
   "id": "13e4a06b-f97c-4710-803e-38ceec40c435",
   "metadata": {
    "tags": []
   },
   "outputs": [],
   "source": [
    "# CREATE A PROGRAM THAT SIMULATES A BASIC CALCULATOR FOR ADDITION, SUBTRACTION, MULTIPLICATION, AND DIVISION."
   ]
  },
  {
   "cell_type": "code",
   "execution_count": 9,
   "id": "efad7db5-e91a-4fc3-83e1-5f1fedcef36f",
   "metadata": {},
   "outputs": [
    {
     "name": "stdout",
     "output_type": "stream",
     "text": [
      "Addition: 15\n",
      "Subtraction: 5\n",
      "Multiplication: 50\n",
      "Division: 2.0\n"
     ]
    }
   ],
   "source": [
    "def add(num1,num2):\n",
    "    return num1+num2\n",
    "def subtract(num1,num2):\n",
    "    return num1-num2\n",
    "def multiply(num1,num2):\n",
    "    return num1*num2\n",
    "def divide(num1,num2):\n",
    "    return num1/num2\n",
    "num1 = 10\n",
    "num2 = 5\n",
    "print(\"Addition:\",add(num1,num2))\n",
    "print(\"Subtraction:\",subtract(num1,num2))\n",
    "print(\"Multiplication:\",multiply(num1,num2))\n",
    "print(\"Division:\",divide(num1,num2))"
   ]
  },
  {
   "cell_type": "code",
   "execution_count": null,
   "id": "de65a08a-a382-4c87-a541-6d5f2ae020cb",
   "metadata": {},
   "outputs": [],
   "source": []
  },
  {
   "cell_type": "code",
   "execution_count": null,
   "id": "ef51848e-3de9-4d3b-a500-b36f559273de",
   "metadata": {},
   "outputs": [],
   "source": []
  },
  {
   "cell_type": "code",
   "execution_count": 41,
   "id": "b81e92c3-80b0-4a98-9432-c547a345ff72",
   "metadata": {
    "tags": []
   },
   "outputs": [],
   "source": [
    "#QUESTION 20"
   ]
  },
  {
   "cell_type": "code",
   "execution_count": 42,
   "id": "921f5f27-cfd2-4374-9ada-ab9e867335c2",
   "metadata": {
    "tags": []
   },
   "outputs": [],
   "source": [
    "#WRITE A PROGRAM THAT DETERMINES THE ROOTS OF A CUBIC EQUATION USING THE CARDANO FORMULA."
   ]
  },
  {
   "cell_type": "code",
   "execution_count": 2,
   "id": "5466080b-9af6-4bd7-bdac-c77218b8e561",
   "metadata": {},
   "outputs": [
    {
     "name": "stdin",
     "output_type": "stream",
     "text": [
      "Enter the coefficient of x^3: 8\n",
      "Enter the coefficient of x^2: 8\n",
      "Enter the coefficient of x: 8\n",
      "Enter the constant term: 9\n"
     ]
    },
    {
     "ename": "AttributeError",
     "evalue": "module 'cmath' has no attribute 'cbrt'",
     "output_type": "error",
     "traceback": [
      "\u001b[1;31m---------------------------------------------------------------------------\u001b[0m",
      "\u001b[1;31mAttributeError\u001b[0m                            Traceback (most recent call last)",
      "Cell \u001b[1;32mIn[2], line 16\u001b[0m\n\u001b[0;32m     14\u001b[0m c \u001b[38;5;241m=\u001b[39m \u001b[38;5;28mfloat\u001b[39m(\u001b[38;5;28minput\u001b[39m(\u001b[38;5;124m\"\u001b[39m\u001b[38;5;124mEnter the coefficient of x:\u001b[39m\u001b[38;5;124m\"\u001b[39m))\n\u001b[0;32m     15\u001b[0m d \u001b[38;5;241m=\u001b[39m \u001b[38;5;28mfloat\u001b[39m(\u001b[38;5;28minput\u001b[39m(\u001b[38;5;124m\"\u001b[39m\u001b[38;5;124mEnter the constant term:\u001b[39m\u001b[38;5;124m\"\u001b[39m))\n\u001b[1;32m---> 16\u001b[0m roots\u001b[38;5;241m=\u001b[39msolve_cubic_equation(a,b,c,d)\n\u001b[0;32m     17\u001b[0m \u001b[38;5;28mprint\u001b[39m(\u001b[38;5;124m\"\u001b[39m\u001b[38;5;124mThe roots of the cubic equation are:\u001b[39m\u001b[38;5;124m\"\u001b[39m)\n\u001b[0;32m     18\u001b[0m \u001b[38;5;28;01mfor\u001b[39;00m root \u001b[38;5;129;01min\u001b[39;00m roots:\n",
      "Cell \u001b[1;32mIn[2], line 5\u001b[0m, in \u001b[0;36msolve_cubic_equation\u001b[1;34m(a, b, c, d)\u001b[0m\n\u001b[0;32m      3\u001b[0m discriminant \u001b[38;5;241m=\u001b[39m (b\u001b[38;5;241m*\u001b[39m\u001b[38;5;241m*\u001b[39m\u001b[38;5;241m2\u001b[39m)\u001b[38;5;241m-\u001b[39m(\u001b[38;5;241m3\u001b[39m\u001b[38;5;241m*\u001b[39ma\u001b[38;5;241m*\u001b[39mc)\n\u001b[0;32m      4\u001b[0m delta \u001b[38;5;241m=\u001b[39m (\u001b[38;5;241m2\u001b[39m\u001b[38;5;241m*\u001b[39mb\u001b[38;5;241m*\u001b[39m\u001b[38;5;241m*\u001b[39m\u001b[38;5;241m3\u001b[39m)\u001b[38;5;241m-\u001b[39m(\u001b[38;5;241m9\u001b[39m\u001b[38;5;241m*\u001b[39ma\u001b[38;5;241m*\u001b[39mb\u001b[38;5;241m*\u001b[39mc)\u001b[38;5;241m+\u001b[39m(\u001b[38;5;241m27\u001b[39m\u001b[38;5;241m*\u001b[39ma\u001b[38;5;241m*\u001b[39m\u001b[38;5;241m*\u001b[39m\u001b[38;5;241m2\u001b[39m\u001b[38;5;241m*\u001b[39md)\n\u001b[1;32m----> 5\u001b[0m cube_root_delta \u001b[38;5;241m=\u001b[39m cmath\u001b[38;5;241m.\u001b[39mcbrt(delta)\n\u001b[0;32m      6\u001b[0m complex_roots_of_unity\u001b[38;5;241m=\u001b[39m[\u001b[38;5;241m1\u001b[39m,(\u001b[38;5;241m-\u001b[39m\u001b[38;5;241m1\u001b[39m\u001b[38;5;241m+\u001b[39m\u001b[38;5;241m1\u001b[39mj\u001b[38;5;241m*\u001b[39mcmath\u001b[38;5;241m.\u001b[39msqrt(\u001b[38;5;241m3\u001b[39m))\u001b[38;5;241m/\u001b[39m\u001b[38;5;241m2\u001b[39m,(\u001b[38;5;241m-\u001b[39m\u001b[38;5;241m1\u001b[39m\u001b[38;5;241m-\u001b[39m\u001b[38;5;241m1\u001b[39mj\u001b[38;5;241m*\u001b[39mcmath\u001b[38;5;241m.\u001b[39msqrt(\u001b[38;5;241m3\u001b[39m))\u001b[38;5;241m/\u001b[39m\u001b[38;5;241m2\u001b[39m]\n\u001b[0;32m      7\u001b[0m roots\u001b[38;5;241m=\u001b[39m[]\n",
      "\u001b[1;31mAttributeError\u001b[0m: module 'cmath' has no attribute 'cbrt'"
     ]
    }
   ],
   "source": [
    "import cmath\n",
    "def solve_cubic_equation(a,b,c,d):\n",
    "    discriminant = (b**2)-(3*a*c)\n",
    "    delta = (2*b**3)-(9*a*b*c)+(27*a**2*d)\n",
    "    cube_root_delta = cmath.cbrt(delta)\n",
    "    complex_roots_of_unity=[1,(-1+1j*cmath.sqrt(3))/2,(-1-1j*cmath.sqrt(3))/2]\n",
    "    roots=[]\n",
    "    for k in range(3):\n",
    "        root =(-1/(3*a))*(b+complex_roots_of_unity[k]*cube_root_delta+discriminant/(complex_roots_of_unity[k]*cube_root_delta))\n",
    "        roots.append(root)\n",
    "    return roots\n",
    "a = float(input(\"Enter the coefficient of x^3:\"))\n",
    "b = float(input(\"Enter the coefficient of x^2:\"))\n",
    "c = float(input(\"Enter the coefficient of x:\"))\n",
    "d = float(input(\"Enter the constant term:\"))\n",
    "roots=solve_cubic_equation(a,b,c,d)\n",
    "print(\"The roots of the cubic equation are:\")\n",
    "for root in roots:\n",
    "    print(root)"
   ]
  },
  {
   "cell_type": "code",
   "execution_count": null,
   "id": "9368ddaf-2571-47c6-9d55-fcb912a8420a",
   "metadata": {},
   "outputs": [],
   "source": []
  },
  {
   "cell_type": "code",
   "execution_count": null,
   "id": "fd93853f-4508-4f96-aaf0-1819366f51e7",
   "metadata": {},
   "outputs": [],
   "source": []
  },
  {
   "cell_type": "code",
   "execution_count": 43,
   "id": "0c03b23e-b183-4d4e-8693-ad4e218a6f38",
   "metadata": {
    "tags": []
   },
   "outputs": [],
   "source": [
    "#ADVANCED LEVEL:"
   ]
  },
  {
   "cell_type": "code",
   "execution_count": 44,
   "id": "aa249d9e-3eb3-4e2e-a09e-1abe3cb33cd2",
   "metadata": {
    "tags": []
   },
   "outputs": [],
   "source": [
    "#QUESTION 21"
   ]
  },
  {
   "cell_type": "code",
   "execution_count": 45,
   "id": "78e117ab-1c10-4e95-95a8-71dca951a125",
   "metadata": {
    "tags": []
   },
   "outputs": [],
   "source": [
    "# CREATE A PROGRAM THAT CALCULATES THE INCOME TAX BASED ON THE USERS INCOME AND TAX BRACKETS."
   ]
  },
  {
   "cell_type": "code",
   "execution_count": 3,
   "id": "92f28ff9-829f-4775-b29f-f30e471c83bc",
   "metadata": {},
   "outputs": [
    {
     "name": "stdout",
     "output_type": "stream",
     "text": [
      "The income tax for an income of $ 50000 is $ 11000.0\n"
     ]
    }
   ],
   "source": [
    "def calculate_income_tax(income,tax_brackets):\n",
    "    tax = 0\n",
    "    remaining_income=income\n",
    "    for bracket in tax_brackets:\n",
    "        if remaining_income<=0:\n",
    "            break\n",
    "        if bracket['upper_limit']is None:\n",
    "            taxable_amount=remaining_income\n",
    "        else:\n",
    "            taxable_amount=min(remaining_income,bracket['upper_limit']-bracket['lower_limit'])\n",
    "        tax+=taxable_amount*bracket['rate']\n",
    "        remaining_income-=taxable_amount\n",
    "    return tax\n",
    "income = 50000\n",
    "tax_brackets=[{'lower_limit':0,'upper_limit':10000,'rate':0.1},{'lower_limit':10000,'upper_limit':30000,'rate':0.2},{'lower_limit':30000,'upper_limit':None,'rate':0.3}]\n",
    "income_tax=calculate_income_tax(income,tax_brackets)\n",
    "print(\"The income tax for an income of $\",income, \"is $\", income_tax)"
   ]
  },
  {
   "cell_type": "code",
   "execution_count": null,
   "id": "ef810568-243c-4aac-b5e8-1d499cd97b91",
   "metadata": {},
   "outputs": [],
   "source": []
  },
  {
   "cell_type": "code",
   "execution_count": null,
   "id": "834b79c7-49c8-448b-853e-601782892ea0",
   "metadata": {},
   "outputs": [],
   "source": []
  },
  {
   "cell_type": "code",
   "execution_count": 46,
   "id": "04273cd2-bf8e-4eb9-9a61-ec76f42c7136",
   "metadata": {
    "tags": []
   },
   "outputs": [],
   "source": [
    "# QUESTION 22"
   ]
  },
  {
   "cell_type": "code",
   "execution_count": 47,
   "id": "3266ebe2-e667-45a1-b579-2f5badad675f",
   "metadata": {
    "tags": []
   },
   "outputs": [],
   "source": [
    "#WRITE A PROGRAM THAT SIMULATES A ROCK-PAPER-SCISSORS GAME AGAINST THE COMPUTER."
   ]
  },
  {
   "cell_type": "code",
   "execution_count": 6,
   "id": "ed06a117-135e-4d6a-ab81-9ab6a51bd4d3",
   "metadata": {},
   "outputs": [
    {
     "name": "stdin",
     "output_type": "stream",
     "text": [
      "Enter your choice(rock,paper,scissors): rock paper scissor\n"
     ]
    },
    {
     "name": "stdout",
     "output_type": "stream",
     "text": [
      "Oops! You lost!rockbeatsrock paper scissor\n"
     ]
    }
   ],
   "source": [
    "import random\n",
    "def play_game(player_choice):\n",
    "    choices=['rock','paper','scissors']\n",
    "    computer_choice=random.choice(choices)\n",
    "    if player_choice==computer_choice:\n",
    "       return \"it's a tie! you both chose\"+player_choice\n",
    "    if(player_choice=='rock' and computer_choice=='scissors') or (player_choice=='paper' and computer_choice=='rock') or (player_choice=='scissors' and computer_choice=='paper'):\n",
    "        return\"congratulations! You win!\"+ player_choice+\"beats\" +computer_choice\n",
    "    return\"Oops! You lost!\"+computer_choice+\"beats\" +player_choice\n",
    "player_choice=input(\"Enter your choice(rock,paper,scissors):\")\n",
    "result=play_game(player_choice)\n",
    "print(result)\n",
    "        "
   ]
  },
  {
   "cell_type": "code",
   "execution_count": null,
   "id": "171fbb7e-f062-41f3-91d8-02324b063a2f",
   "metadata": {},
   "outputs": [],
   "source": []
  },
  {
   "cell_type": "code",
   "execution_count": null,
   "id": "aab19a58-e316-460c-8169-d382affbc964",
   "metadata": {},
   "outputs": [],
   "source": []
  },
  {
   "cell_type": "code",
   "execution_count": 48,
   "id": "40368a6d-6767-49a6-a617-31894faa62ec",
   "metadata": {
    "tags": []
   },
   "outputs": [],
   "source": [
    "#QUESTION 23"
   ]
  },
  {
   "cell_type": "code",
   "execution_count": 49,
   "id": "f581fcdc-7706-4f6c-ad25-fa8ea3e45c8f",
   "metadata": {
    "tags": []
   },
   "outputs": [],
   "source": [
    "#DEVELOP A PROGRAM THAT GENRATES A RANDOM PASSWORD BASED ON USER PREFERENCES(LENGTH, COMPLEXITY)."
   ]
  },
  {
   "cell_type": "code",
   "execution_count": 20,
   "id": "afc9530d-9926-43f1-934c-fc14f1b6516a",
   "metadata": {},
   "outputs": [
    {
     "name": "stdin",
     "output_type": "stream",
     "text": [
      "Enter the disired length of the password: 8\n",
      "Enter the desired complexity level(low,medium,high): high\n"
     ]
    },
    {
     "name": "stdout",
     "output_type": "stream",
     "text": [
      "Your random password is: n6nuWwS;\n"
     ]
    }
   ],
   "source": [
    "import random\n",
    "import string\n",
    "def generate_password(length,complexity):\n",
    "    if complexity =='low':\n",
    "        characters=string.ascii_lowercase\n",
    "    elif complexity == 'medium':\n",
    "        characters=string.ascii_letters+string.digits\n",
    "    elif complexity =='high':\n",
    "        characters=string.ascii_letters+string.digits+string.punctuation\n",
    "    else:\n",
    "        return\"Invalid complexity level!\"\n",
    "    password= ''.join(random.choice(characters)for _ in range(length))\n",
    "    return password\n",
    "length = int(input(\"Enter the disired length of the password:\"))\n",
    "complexity = input(\"Enter the desired complexity level(low,medium,high):\")\n",
    "password = generate_password (length,complexity)\n",
    "print(\"Your random password is:\", password)"
   ]
  },
  {
   "cell_type": "code",
   "execution_count": null,
   "id": "487b38b1-4b09-4df5-a348-835500589d04",
   "metadata": {},
   "outputs": [],
   "source": []
  },
  {
   "cell_type": "code",
   "execution_count": null,
   "id": "a7309449-4c5b-45e7-8655-7fc30dc01c9c",
   "metadata": {},
   "outputs": [],
   "source": []
  },
  {
   "cell_type": "code",
   "execution_count": 23,
   "id": "e09328bc-ca53-47a5-8b0d-0d3958e7f65f",
   "metadata": {},
   "outputs": [],
   "source": [
    "#QUESTION 24"
   ]
  },
  {
   "cell_type": "code",
   "execution_count": 24,
   "id": "7727c6ba-a192-4288-928a-3298b2f731ae",
   "metadata": {
    "tags": []
   },
   "outputs": [],
   "source": [
    "# CREATE A PROGRAM THAT IMPLEMENTS A SIMPLE TEXT -BASED ADVENTURE GAME WITH BRANCHING SCENARIOS."
   ]
  },
  {
   "cell_type": "code",
   "execution_count": 5,
   "id": "21a32119-c05f-40b5-8b8d-bc2194ca9630",
   "metadata": {
    "tags": []
   },
   "outputs": [
    {
     "ename": "IndentationError",
     "evalue": "expected an indented block after function definition on line 55 (3480488873.py, line 56)",
     "output_type": "error",
     "traceback": [
      "\u001b[1;36m  Cell \u001b[1;32mIn[5], line 56\u001b[1;36m\u001b[0m\n\u001b[1;33m    print(\"Congratulations! You made it to the final\")\u001b[0m\n\u001b[1;37m    ^\u001b[0m\n\u001b[1;31mIndentationError\u001b[0m\u001b[1;31m:\u001b[0m expected an indented block after function definition on line 55\n"
     ]
    }
   ],
   "source": [
    "def start_game():\n",
    "    print(\"Welcome to the Adventure Game!\")\n",
    "    print(\"You wake up in a mysterious room. There are two doors in front of you.\")\n",
    "    print(\"Which door do you choose? (1 or 2)\")\n",
    "    choice = input(\"Enter your choice:\")\n",
    "    if choice == \"1\":\n",
    "        room_1()\n",
    "    elif choice == \"2\":\n",
    "        room_2()\n",
    "    else:\n",
    "        print(\"Invalid choice.please try again.\")\n",
    "        start_game()\n",
    "def room_1():\n",
    "    print(\"you enter a dark room with a teasure chest.\")\n",
    "    print(\"What do you do?\")\n",
    "    print(\"1.Open the chest\")\n",
    "    print(\"2.leave the room\")\n",
    "    choice = input(\"enter your choice:\")\n",
    "    if choice == \"1\":\n",
    "        print(\"congratulations! you found a treasure!\")\n",
    "    elif choice == \"2\":\n",
    "        print(\"You leave the room and continue your adventure.\")\n",
    "        room_2()\n",
    "    else:\n",
    "        print(\"Invalid choice.please try again.\")\n",
    "        room_1()\n",
    "def room_2():\n",
    "    print(\"You enter a room with a giant spider.\")\n",
    "    print(\"What do you do?\")\n",
    "    print(\"1.Fight the spider\")\n",
    "    print(\"2.Run away\")\n",
    "    choice = input(\"Enter your choice:\")\n",
    "    if choice ==\"1\":\n",
    "        print(\"you try to fight the spider, but it's too powerful. Game over!\")\n",
    "    elif choice == \"2\":\n",
    "        print(\"you run away and find yourself in another room.\")\n",
    "        room_3()\n",
    "    else:\n",
    "        print(\"Invalid choice.please try again.\")\n",
    "        room_2()\n",
    "def room_3():\n",
    "    print(\"You enter a room with a locked door.\")\n",
    "    print(\"What do you do?\")\n",
    "    print(\"1.Look for a key\")\n",
    "    print(\"2.Break the door\")\n",
    "    choice = input (\"Enter your choice:\")\n",
    "    if choice ==\"1\":\n",
    "        print(\"you search the room and find a key. You unlock the door and continue your adventure.\")\n",
    "        final_room()\n",
    "    elif choice == \"2\":\n",
    "        print(\"You try to brak the door, but it's too strong. Game over!\")\n",
    "    else:\n",
    "        print(\"Invalid choice. Please try again.\")\n",
    "        room_3()\n",
    "def final_room():\n",
    "print(\"Congratulations! You made it to the final\")\n",
    "            \n",
    "        "
   ]
  },
  {
   "cell_type": "code",
   "execution_count": null,
   "id": "3fe7950a-26f2-49c7-84ce-17d057c54293",
   "metadata": {},
   "outputs": [],
   "source": []
  },
  {
   "cell_type": "code",
   "execution_count": null,
   "id": "18de5cd8-4d3c-46f3-a2eb-3ce2dd260f95",
   "metadata": {},
   "outputs": [],
   "source": []
  },
  {
   "cell_type": "code",
   "execution_count": 50,
   "id": "5c689c63-0cb8-4656-9295-b70b33ef43e8",
   "metadata": {
    "tags": []
   },
   "outputs": [],
   "source": [
    "# QUESTION 25"
   ]
  },
  {
   "cell_type": "code",
   "execution_count": 51,
   "id": "3b9b8708-2db1-4e35-be27-5187ac23497e",
   "metadata": {
    "tags": []
   },
   "outputs": [],
   "source": [
    "# BUILD A PROGRAM THAT SOLVES A LINEAR EQUATION FOR X, CONSIDERING DIFFERENT CASES."
   ]
  },
  {
   "cell_type": "code",
   "execution_count": 19,
   "id": "f95000bb-579b-4fbe-8a29-b59f0a818a99",
   "metadata": {},
   "outputs": [
    {
     "name": "stdout",
     "output_type": "stream",
     "text": [
      "The solution is x =-2.5\n",
      "The solution is x =-3.5\n",
      "No solution\n"
     ]
    }
   ],
   "source": [
    "def solve_linear_equation(a,b):\n",
    "    if a==0 and b==0:\n",
    "        return\"Infinite solutions\"\n",
    "    elif a==0 and b!=0:\n",
    "        return \"No solution\"\n",
    "    else:\n",
    "        x=-b/a\n",
    "        return f\"The solution is x ={x}\"\n",
    "equation1 = (2,5)\n",
    "equation2 = (2,7)\n",
    "equation3 = (0,5)\n",
    "print(solve_linear_equation(*equation1))\n",
    "print(solve_linear_equation(*equation2))\n",
    "print(solve_linear_equation(*equation3))"
   ]
  },
  {
   "cell_type": "code",
   "execution_count": null,
   "id": "844ab6dc-3840-416f-8511-43cc08db0301",
   "metadata": {},
   "outputs": [],
   "source": []
  },
  {
   "cell_type": "code",
   "execution_count": null,
   "id": "2b78af6d-517c-47ba-8dd6-9bceb770f422",
   "metadata": {},
   "outputs": [],
   "source": []
  },
  {
   "cell_type": "code",
   "execution_count": 52,
   "id": "d3f53d7e-41ed-4309-b106-fc7f945434c6",
   "metadata": {
    "tags": []
   },
   "outputs": [],
   "source": [
    "#QUESTION 26"
   ]
  },
  {
   "cell_type": "code",
   "execution_count": 53,
   "id": "08e9b010-64db-42a4-a0d0-bdabeb09c361",
   "metadata": {
    "tags": []
   },
   "outputs": [],
   "source": [
    "# WRITE A PROGRAM THAT SIMULATES A BASIC QUIZ GAME WITH MULTIPLE-CHOICE QUESTIONS AND SCORING"
   ]
  },
  {
   "cell_type": "code",
   "execution_count": 26,
   "id": "a688a39a-eb12-4d8d-9f88-a0017dd6ba9e",
   "metadata": {},
   "outputs": [
    {
     "name": "stdout",
     "output_type": "stream",
     "text": [
      "What is the capital of France?\n",
      "1.1.london\n",
      "2.2.Paris\n",
      "3.3.Rome\n",
      "4.4.Madrid\n"
     ]
    },
    {
     "name": "stdin",
     "output_type": "stream",
     "text": [
      "Enter your answer(1,2,3,or4): 2\n"
     ]
    },
    {
     "name": "stdout",
     "output_type": "stream",
     "text": [
      "correct!\n",
      "\n",
      "which planet is known as the Red planet?\n",
      "1.1.Mars\n",
      "2.2.venus\n",
      "3.3.Jupiter\n",
      "4.4.Saturn\n"
     ]
    },
    {
     "name": "stdin",
     "output_type": "stream",
     "text": [
      "Enter your answer(1,2,3,or4): 1\n"
     ]
    },
    {
     "name": "stdout",
     "output_type": "stream",
     "text": [
      "correct!\n",
      "\n",
      "Who painted the Mona Lisa?\n",
      "1.1.Pablo Picasso\n",
      "2.2.Leonardo da Vinci\n",
      "3.3.Vincent van Gogh\n",
      "4.4.Michelangelo\n"
     ]
    },
    {
     "name": "stdin",
     "output_type": "stream",
     "text": [
      "Enter your answer(1,2,3,or4): 2\n"
     ]
    },
    {
     "name": "stdout",
     "output_type": "stream",
     "text": [
      "correct!\n",
      "\n",
      "Quiz completed! Your score is 3/3.\n"
     ]
    }
   ],
   "source": [
    "def run_quiz(questions):\n",
    "    score = 0\n",
    "    for question in questions:\n",
    "        print(question['question'])\n",
    "        for i, choice in enumerate(question['choices']):\n",
    "            print(f\"{i+1}.{choice}\")\n",
    "        answer = input(\"Enter your answer(1,2,3,or4):\")\n",
    "        if answer == question['answer']:\n",
    "            print(\"correct!\")\n",
    "            score+=1\n",
    "        else:\n",
    "            print(\"Incorrect!\")\n",
    "        print()\n",
    "    print(f\"Quiz completed! Your score is {score}/{len(question)}.\")\n",
    "quiz_questions =[\n",
    "    {\n",
    "       'question':'What is the capital of France?',\n",
    "       'choices':['1.london','2.Paris','3.Rome','4.Madrid'],\n",
    "       'answer':'2'\n",
    "    },\n",
    "    {\n",
    "       'question':'which planet is known as the Red planet?',\n",
    "        'choices':['1.Mars','2.venus','3.Jupiter','4.Saturn'],\n",
    "        'answer':'1'\n",
    "    },\n",
    "    {\n",
    "        'question':'Who painted the Mona Lisa?',\n",
    "        'choices':['1.Pablo Picasso','2.Leonardo da Vinci','3.Vincent van Gogh','4.Michelangelo'],\n",
    "        'answer':'2'\n",
    "    }]\n",
    "run_quiz(quiz_questions)"
   ]
  },
  {
   "cell_type": "code",
   "execution_count": null,
   "id": "416639e0-2940-4769-ac32-7fb9ff9ff9e6",
   "metadata": {},
   "outputs": [],
   "source": []
  },
  {
   "cell_type": "code",
   "execution_count": null,
   "id": "2decd66e-7ff9-42ed-ad7c-e9f8cdbb8154",
   "metadata": {},
   "outputs": [],
   "source": []
  },
  {
   "cell_type": "code",
   "execution_count": 54,
   "id": "fff167bd-d8ef-48b1-ae32-4dbe0b8f11fd",
   "metadata": {
    "tags": []
   },
   "outputs": [],
   "source": [
    "#QUESTION 27"
   ]
  },
  {
   "cell_type": "code",
   "execution_count": 55,
   "id": "732580bf-9d24-4d16-9b3d-cc2c6f163e2c",
   "metadata": {
    "tags": []
   },
   "outputs": [],
   "source": [
    "#DEVELOP A PROGRAM THAT DETERMINES WHETHER A GIVEN YEAR IS A PRIME NUMBER OR NOT"
   ]
  },
  {
   "cell_type": "code",
   "execution_count": 28,
   "id": "169037fe-913e-44fc-890f-3b128fad4ba0",
   "metadata": {},
   "outputs": [
    {
     "name": "stdin",
     "output_type": "stream",
     "text": [
      "Enter a year: 2023\n"
     ]
    },
    {
     "name": "stdout",
     "output_type": "stream",
     "text": [
      "2023 is not a prime number.\n"
     ]
    }
   ],
   "source": [
    "def is_prime(year):\n",
    "    if year<=1:\n",
    "        return False\n",
    "    for i in range(2,int(year**0.5)+1):\n",
    "        if year%i==0:\n",
    "            return False\n",
    "    return True\n",
    "year = int(input(\"Enter a year:\"))\n",
    "if is_prime(year):\n",
    "    print(f\"{year} is a prime number.\")\n",
    "else:\n",
    "    print(f\"{year} is not a prime number.\")\n",
    "    "
   ]
  },
  {
   "cell_type": "code",
   "execution_count": null,
   "id": "f771703e-d3c5-4069-b308-1cf01cc12ec7",
   "metadata": {},
   "outputs": [],
   "source": []
  },
  {
   "cell_type": "code",
   "execution_count": null,
   "id": "3bc8d774-ed51-4d48-86bb-8a8bd8fa05b9",
   "metadata": {},
   "outputs": [],
   "source": []
  },
  {
   "cell_type": "code",
   "execution_count": 56,
   "id": "66859340-751e-4612-a005-9e24bf063edc",
   "metadata": {
    "tags": []
   },
   "outputs": [],
   "source": [
    "# QUESTION 28"
   ]
  },
  {
   "cell_type": "code",
   "execution_count": 57,
   "id": "19a9dd94-0e80-4bbc-831c-1556ecd21b44",
   "metadata": {
    "tags": []
   },
   "outputs": [],
   "source": [
    "# CREATE A PROGRAM THAT SORTS THREE NUMBERS IN ASCENDING ORDER USING CONDITIONAL STATEMENTS."
   ]
  },
  {
   "cell_type": "code",
   "execution_count": 30,
   "id": "184ef17d-95bf-477d-851f-86a3d659f545",
   "metadata": {},
   "outputs": [
    {
     "name": "stdin",
     "output_type": "stream",
     "text": [
      "Enter the first number: 23\n",
      "Enter the second number: 02\n",
      "Enter the third number: 2004\n"
     ]
    },
    {
     "name": "stdout",
     "output_type": "stream",
     "text": [
      "The numbers in ascending order are:2.0,23.0,2004.0\n"
     ]
    }
   ],
   "source": [
    "num1 = float(input(\"Enter the first number:\"))\n",
    "num2 = float(input(\"Enter the second number:\"))\n",
    "num3 = float(input(\"Enter the third number:\"))\n",
    "if num1<=num2 and num1<=num3:\n",
    "    smallest = num1\n",
    "    if num2<= num3:\n",
    "        middle+num2\n",
    "        largest = num3\n",
    "    else:\n",
    "        middle = num3\n",
    "        largest = num2\n",
    "elif num2<=num1 and num2<= num3:\n",
    "    smallest = num2\n",
    "    if num1<=num3:\n",
    "        middle = num1\n",
    "        largest = num3\n",
    "    else:\n",
    "        middle = num3\n",
    "        largest = num1\n",
    "else:\n",
    "    smallest = num3\n",
    "    if num1<=num2:\n",
    "        middle = num1\n",
    "        largest = num2\n",
    "    else:\n",
    "        middle = num2\n",
    "        largest= num1\n",
    "print(f\"The numbers in ascending order are:{smallest},{middle},{largest}\")\n"
   ]
  },
  {
   "cell_type": "code",
   "execution_count": null,
   "id": "283f488e-213b-474b-ba10-4ecc4f55936c",
   "metadata": {},
   "outputs": [],
   "source": []
  },
  {
   "cell_type": "code",
   "execution_count": null,
   "id": "5ae47d4b-a9b8-4071-bdd9-0b112aaba647",
   "metadata": {},
   "outputs": [],
   "source": []
  },
  {
   "cell_type": "code",
   "execution_count": 58,
   "id": "e20a9fd1-e293-4068-9195-4f5779f3f08c",
   "metadata": {
    "tags": []
   },
   "outputs": [],
   "source": [
    "#QUESTION 29"
   ]
  },
  {
   "cell_type": "code",
   "execution_count": 59,
   "id": "d4506d95-d362-45a6-9f64-d4257ac762ab",
   "metadata": {
    "tags": []
   },
   "outputs": [],
   "source": [
    "# BUILD A PROGRAM THAT DETERMINES THE ROOTS OF A QUARTIC EQUATION USING NUMERICAL METHODS."
   ]
  },
  {
   "cell_type": "code",
   "execution_count": 31,
   "id": "5b5b25fa-1cee-4274-bde6-a6235b82f0aa",
   "metadata": {},
   "outputs": [
    {
     "name": "stdout",
     "output_type": "stream",
     "text": [
      "The roots of the quadratic equation are:\n",
      "4.000000000000011\n",
      "2.9999999999999925\n",
      "2.000000000000004\n",
      "0.9999999999999984\n"
     ]
    }
   ],
   "source": [
    "import numpy as np\n",
    "coefficients=[1,-10,35,-50,24]\n",
    "roots = np.roots(coefficients)\n",
    "print(\"The roots of the quadratic equation are:\")\n",
    "for root in roots:\n",
    "    print(root)"
   ]
  },
  {
   "cell_type": "code",
   "execution_count": null,
   "id": "c4cf7300-cd9f-4339-a32f-7e8812656d0e",
   "metadata": {},
   "outputs": [],
   "source": []
  },
  {
   "cell_type": "code",
   "execution_count": null,
   "id": "72eff17b-50bf-415d-8a52-5f213e122a56",
   "metadata": {},
   "outputs": [],
   "source": []
  },
  {
   "cell_type": "code",
   "execution_count": 60,
   "id": "3edd68d5-f861-470d-a368-d2cb6bd97631",
   "metadata": {
    "tags": []
   },
   "outputs": [],
   "source": [
    "#QUESTION 30"
   ]
  },
  {
   "cell_type": "code",
   "execution_count": 61,
   "id": "087f4e31-f5ff-4a56-bd76-f76dae09ab16",
   "metadata": {
    "tags": []
   },
   "outputs": [],
   "source": [
    "#WRITE A PROGRAM THAT CALCULATES THE BMI AND PROVIDES HEALTH RECOMMENDATIONS BASED ON THE USER'S INPUT"
   ]
  },
  {
   "cell_type": "code",
   "execution_count": 33,
   "id": "9103aeee-03ec-49aa-bf98-93873a12d734",
   "metadata": {},
   "outputs": [
    {
     "name": "stdin",
     "output_type": "stream",
     "text": [
      "Please enter your weight in kilograms: 45\n",
      "PLease enter your height in meters: 153\n"
     ]
    },
    {
     "name": "stdout",
     "output_type": "stream",
     "text": [
      "Your BMI is: 0.0019223375624759708\n"
     ]
    }
   ],
   "source": [
    "weight = float(input(\"Please enter your weight in kilograms:\"))\n",
    "height = float(input(\"PLease enter your height in meters:\"))\n",
    "bmi= weight/(height**2)\n",
    "print(\"Your BMI is:\",bmi)"
   ]
  },
  {
   "cell_type": "code",
   "execution_count": null,
   "id": "4d959697-b442-41a5-98d5-635ab522fc99",
   "metadata": {},
   "outputs": [],
   "source": []
  },
  {
   "cell_type": "code",
   "execution_count": null,
   "id": "4773853e-9caf-4873-8a18-93dacf2e2348",
   "metadata": {},
   "outputs": [],
   "source": []
  },
  {
   "cell_type": "code",
   "execution_count": 62,
   "id": "d77e0a04-9828-4f0d-b351-ebdf015a20cf",
   "metadata": {
    "tags": []
   },
   "outputs": [],
   "source": [
    "#CHALLENGE LEVEL:"
   ]
  },
  {
   "cell_type": "code",
   "execution_count": 63,
   "id": "b62ee04c-1e4e-4a3a-8c3c-216be964096b",
   "metadata": {
    "tags": []
   },
   "outputs": [],
   "source": [
    "#QUESTION 31"
   ]
  },
  {
   "cell_type": "code",
   "execution_count": 64,
   "id": "81a66298-41f8-4390-bdbf-7ffedc4f0936",
   "metadata": {
    "tags": []
   },
   "outputs": [],
   "source": [
    "#CREATE A PROGRAM THAT VALIDATES A PASSWORD BASED ON COMPLEXITY RULES"
   ]
  },
  {
   "cell_type": "code",
   "execution_count": 6,
   "id": "c2edeca2-14b1-49f0-9abf-0de92473e8b2",
   "metadata": {},
   "outputs": [
    {
     "name": "stdin",
     "output_type": "stream",
     "text": [
      "Enter a password: 5657\n"
     ]
    },
    {
     "name": "stdout",
     "output_type": "stream",
     "text": [
      "Password is not valid. please make sure it meets the complexity rules.\n"
     ]
    }
   ],
   "source": [
    "def validate_password(password):\n",
    "    min_length=8\n",
    "    max_length=20\n",
    "    special_characters=\"!@#$%^&*()_+={}[]|:;\\\"'<>,./\"\n",
    "    if len(password)<min_length or len(password)>max_length:\n",
    "        return False\n",
    "    has_uppercase =False\n",
    "    has_lowercase=False\n",
    "    has_digit=False\n",
    "    for char in password:\n",
    "        if char.isupper():\n",
    "            has_uppercase =True\n",
    "        elif char.islower():\n",
    "            has_lowercase=True\n",
    "        elif char.isdigit():\n",
    "            has_digit=True\n",
    "    if not has_uppercase or not has_lowercase or not has_digit:\n",
    "        return False\n",
    "    has_special_character = False\n",
    "    for char in password:\n",
    "        if char in special_characters:\n",
    "            has_special_character = True\n",
    "            break\n",
    "        return False\n",
    "    return True\n",
    "password = input(\"Enter a password:\")\n",
    "if validate_password(password):\n",
    "    print(\"Password is valid!\")\n",
    "else:\n",
    "    print(\"Password is not valid. please make sure it meets the complexity rules.\")"
   ]
  },
  {
   "cell_type": "code",
   "execution_count": null,
   "id": "768fb5b0-18c8-4ab8-98a4-943b06419bc4",
   "metadata": {},
   "outputs": [],
   "source": []
  },
  {
   "cell_type": "code",
   "execution_count": null,
   "id": "7a429ad9-e462-4711-baab-ac66d3f4dc68",
   "metadata": {},
   "outputs": [],
   "source": []
  },
  {
   "cell_type": "code",
   "execution_count": 65,
   "id": "563f84d0-049a-4c6c-9042-bd3f239884b2",
   "metadata": {
    "tags": []
   },
   "outputs": [],
   "source": [
    "#QUESTION 32"
   ]
  },
  {
   "cell_type": "code",
   "execution_count": 66,
   "id": "00eb35c8-c2bd-40cb-ba01-03f3a6f7f8f0",
   "metadata": {
    "tags": []
   },
   "outputs": [],
   "source": [
    "#DEVELOP A PROGRAM THAT PERFORMS MATRIX ADDITION AND SUBTRACTION BASED ON USER INPUT"
   ]
  },
  {
   "cell_type": "code",
   "execution_count": 5,
   "id": "0e91836d-f5ba-45b8-9c1f-9378a028f517",
   "metadata": {},
   "outputs": [
    {
     "name": "stdin",
     "output_type": "stream",
     "text": [
      "Enter the number of rows: 2\n",
      "Enter the number of columns: 2\n"
     ]
    },
    {
     "name": "stdout",
     "output_type": "stream",
     "text": [
      "Enter the elements of matrix 1:\n"
     ]
    },
    {
     "name": "stdin",
     "output_type": "stream",
     "text": [
      "Enter element at position (1,1): 1\n",
      "Enter element at position (1,2): 2\n",
      "Enter element at position (2,1): 3\n",
      "Enter element at position (2,2): 4\n"
     ]
    },
    {
     "name": "stdout",
     "output_type": "stream",
     "text": [
      "Enter the elements of matrix2:\n"
     ]
    },
    {
     "name": "stdin",
     "output_type": "stream",
     "text": [
      "Enter element at position(1,1): 5\n",
      "Enter element at position(1,2): 6\n",
      "Enter element at position(2,1): 7\n",
      "Enter element at position(2,2): 8\n"
     ]
    },
    {
     "name": "stdout",
     "output_type": "stream",
     "text": [
      "Matrix Addition:\n",
      "[6, 8]\n",
      "[10, 12]\n",
      "Matrix Subtraction:\n",
      "[-4, -4]\n",
      "[-4, -4]\n"
     ]
    }
   ],
   "source": [
    "def matrix_addition(matrix1,matrix2):\n",
    "    result = []\n",
    "    for i in range(len(matrix1)):\n",
    "        row = []\n",
    "        for j in range(len(matrix1[i])):\n",
    "            row.append(matrix1[i][j]+matrix2[i][j])\n",
    "        result.append(row)\n",
    "    return result\n",
    "def matrix_subtraction(matrix1,matrix2):\n",
    "    result = []\n",
    "    for i in range(len(matrix1)):\n",
    "        row=[]\n",
    "        for j in range(len(matrix1[i])):\n",
    "            row.append(matrix1[i][j]-matrix2[i][j])\n",
    "        result.append(row)\n",
    "    return result\n",
    "rows=int(input(\"Enter the number of rows:\"))\n",
    "columns= int(input(\"Enter the number of columns:\"))\n",
    "matrix1=[]\n",
    "matrix2=[]\n",
    "print(\"Enter the elements of matrix 1:\")\n",
    "for i in range(rows):\n",
    "    row=[]\n",
    "    for j in range(rows):\n",
    "        element = int(input(f\"Enter element at position ({i+1},{j+1}):\"))\n",
    "        row.append(element)\n",
    "    matrix1.append(row)\n",
    "print(\"Enter the elements of matrix2:\")\n",
    "for i in range(rows):\n",
    "    row = []\n",
    "    for j in range(columns):\n",
    "        element= int(input(f\"Enter element at position({i+1},{j+1}):\"))\n",
    "        row.append(element)\n",
    "    matrix2.append(row)\n",
    "addition_result= matrix_addition(matrix1,matrix2)\n",
    "subtraction_result=matrix_subtraction(matrix1,matrix2)\n",
    "print(\"Matrix Addition:\")\n",
    "for row in addition_result:\n",
    "    print(row)\n",
    "print(\"Matrix Subtraction:\")\n",
    "for row in subtraction_result:\n",
    "    print(row)"
   ]
  },
  {
   "cell_type": "code",
   "execution_count": null,
   "id": "7b696caf-e8bd-46ed-8d9d-e31e66085c1b",
   "metadata": {},
   "outputs": [],
   "source": []
  },
  {
   "cell_type": "code",
   "execution_count": null,
   "id": "48498b7d-c26b-4649-867c-1059be62f10b",
   "metadata": {},
   "outputs": [],
   "source": []
  },
  {
   "cell_type": "code",
   "execution_count": 67,
   "id": "08a9c324-71fa-4d10-8135-b4001b34717f",
   "metadata": {
    "tags": []
   },
   "outputs": [],
   "source": [
    "#QUESTION 33"
   ]
  },
  {
   "cell_type": "code",
   "execution_count": 68,
   "id": "945aefa2-2606-4d0b-aa37-b2c3258e232c",
   "metadata": {
    "tags": []
   },
   "outputs": [],
   "source": [
    "# WRITE A PROGRAM THAT CALCULATES THE GREATEST COMMON DIVISOR OF TWO NUMBER USING THE EUCLIDEAN ALGORITHM."
   ]
  },
  {
   "cell_type": "code",
   "execution_count": 7,
   "id": "d673e336-9830-4a17-ad68-896f87c7b8a3",
   "metadata": {},
   "outputs": [
    {
     "name": "stdin",
     "output_type": "stream",
     "text": [
      "Enter the first number: 24\n",
      "Enter the second number: 36\n"
     ]
    },
    {
     "name": "stdout",
     "output_type": "stream",
     "text": [
      "The greatest common divisor(GCD) of 24 and 36 is 12\n"
     ]
    }
   ],
   "source": [
    "def gcd(a,b):\n",
    "    while b!=0:\n",
    "        temp = b\n",
    "        b = a%b\n",
    "        a = temp\n",
    "    return a \n",
    "num1 = int(input(\"Enter the first number:\"))\n",
    "num2 = int(input(\"Enter the second number:\"))\n",
    "result = gcd(num1,num2)\n",
    "print(\"The greatest common divisor(GCD) of\",num1,\"and\",num2,\"is\",result)"
   ]
  },
  {
   "cell_type": "code",
   "execution_count": null,
   "id": "27e58ddb-97a1-4a3b-8f00-99a0d426c134",
   "metadata": {},
   "outputs": [],
   "source": []
  },
  {
   "cell_type": "code",
   "execution_count": null,
   "id": "bc5c3b48-b311-4430-8034-087d04e651f2",
   "metadata": {},
   "outputs": [],
   "source": []
  },
  {
   "cell_type": "code",
   "execution_count": 69,
   "id": "70abe40e-e603-430b-aed4-f9cbb32e7261",
   "metadata": {
    "tags": []
   },
   "outputs": [],
   "source": [
    "#QUESTION 34"
   ]
  },
  {
   "cell_type": "code",
   "execution_count": 70,
   "id": "a391b6a8-485a-49a4-a718-3e70c287327e",
   "metadata": {
    "tags": []
   },
   "outputs": [],
   "source": [
    "# BUILD A PROGRAM THAT PERFORMS MATRIX MULTIPLICATION USING NESTED LOOPS AND CONDITIONAL STATEMENTS."
   ]
  },
  {
   "cell_type": "code",
   "execution_count": 12,
   "id": "9a28b1e0-5d95-470d-b7cf-3d317454a2ad",
   "metadata": {},
   "outputs": [
    {
     "ename": "SyntaxError",
     "evalue": "unterminated string literal (detected at line 3) (427419364.py, line 3)",
     "output_type": "error",
     "traceback": [
      "\u001b[1;36m  Cell \u001b[1;32mIn[12], line 3\u001b[1;36m\u001b[0m\n\u001b[1;33m    print(\"Cannot perform matrix\u001b[0m\n\u001b[1;37m          ^\u001b[0m\n\u001b[1;31mSyntaxError\u001b[0m\u001b[1;31m:\u001b[0m unterminated string literal (detected at line 3)\n"
     ]
    }
   ],
   "source": [
    "def matrix_multiplication(matrix1,matrix2):\n",
    "    if len(matrix1[10])!=len(matrix2):\n",
    "        print(\"Cannot perform matrix \n",
    "multiplication.The number of columns in \n",
    "matrix1 must be equal to the number of rows\n",
    "in matrix2\")\n",
    "        return None\n",
    "    result =[[0 for _ in range(len(matrix2[0]))]\n",
    "for _ in range(len(matrix1))]\n",
    "    for i in range(len(matrix1)):\n",
    "        for j in range(len(matrix2[0])):\n",
    "            for k in range(len(matrix2)):\n",
    "                result[i][j]+=matrix1[i][k]*matrix2[k][j]\n",
    "    return result\n",
    "matrix1 = [[1,2,3],[4,5,6]]\n",
    "matrix2 = [[7,8],[9,10],[11,12]]\n",
    "result= matrix_multiplication(matrix1,matrix2)\n",
    "if result is not None:\n",
    "    print(\"Matrix Multiplication Result:\")\n",
    "    for row in result:\n",
    "        print(row)"
   ]
  },
  {
   "cell_type": "code",
   "execution_count": null,
   "id": "85effebd-be4d-4e43-9820-66376744898f",
   "metadata": {},
   "outputs": [],
   "source": []
  },
  {
   "cell_type": "code",
   "execution_count": null,
   "id": "cb91ad9f-ca73-43fe-96af-eaef7b0be5b3",
   "metadata": {},
   "outputs": [],
   "source": []
  },
  {
   "cell_type": "code",
   "execution_count": 71,
   "id": "9c5b60e5-647b-4d5a-aea9-57771d217b77",
   "metadata": {
    "tags": []
   },
   "outputs": [],
   "source": [
    "#QUESTION 35"
   ]
  },
  {
   "cell_type": "code",
   "execution_count": 72,
   "id": "4c3d0d80-12ff-46df-8220-29ec00383683",
   "metadata": {
    "tags": []
   },
   "outputs": [],
   "source": [
    "# CREATE A PROGRAM THAT SIMULATES A BASIC TEXT-BASED TIC-TAC-TOE GAME AGAINST THE COMPUTER."
   ]
  },
  {
   "cell_type": "code",
   "execution_count": null,
   "id": "38899500-4407-4d2f-befe-602b509bec09",
   "metadata": {},
   "outputs": [
    {
     "name": "stdout",
     "output_type": "stream",
     "text": [
      "||\n",
      "---------\n",
      "||\n",
      "---------\n",
      "||\n",
      "---------\n"
     ]
    }
   ],
   "source": [
    "## import random\n",
    "def print_board(board):\n",
    "    for row in board:\n",
    "        print(\"|\".join(row))\n",
    "        print(\"-\"*9)\n",
    "def check_win(board,player):\n",
    "    for row in board:\n",
    "        if all(cell==player for cell in row):\n",
    "            return True\n",
    "        for col in range(3):\n",
    "            if all(board[row][col]==player for row in range(3)):\n",
    "                return True\n",
    "        if board[0][0]==board[1][1]==board[2][2]==player:\n",
    "            return True\n",
    "        if board[0][2]==board[1][1]==board[2][0]==player:\n",
    "            return True\n",
    "        return False\n",
    "def make_computer_move(board):\n",
    "    available_moves=[]\n",
    "    for row in range(3):\n",
    "        for col in range(3):\n",
    "            if board[row][col]==\"\":\n",
    "                available_movies.append((row,col))\n",
    "    if available_movies:\n",
    "        return random.choice(available_moves)\n",
    "    else:\n",
    "        return None\n",
    "def play_game():\n",
    "    board =[[\"\"for _ in range(3)]for _ in range(3)]\n",
    "    current_player = \"X\"\n",
    "    while True:\n",
    "        print_board(board)\n",
    "        if all(all(cell!=\"\"for cell in row )for row in  board):\n",
    "            print(\"it's a tie!\")\n",
    "            break\n",
    "        if check_win(board,current_player):\n",
    "            print(f\"{current_player}wins!\")\n",
    "            break\n",
    "        if current_player == \"X\":\n",
    "            row = int(input(\"Enter the row(0-2):\"))\n",
    "            col = int(input(\"Enter the column (0-2):\"))\n",
    "            if board[row][col]!=\"\":\n",
    "               print(\"Invalid movies.please try again.\")\n",
    "            board[row][col]=current_player\n",
    "        else:\n",
    "            move = make_computer_move(board)\n",
    "            if move is None:\n",
    "               print(\"No available moves.It's a tie!\")\n",
    "               break\n",
    "            row,col =move\n",
    "            board[row][col]=current_player\n",
    "        current_player =\"O\"if current_player==\"X\" else \"X\"\n",
    "play_game()\n",
    "               "
   ]
  },
  {
   "cell_type": "code",
   "execution_count": null,
   "id": "a5204800-19a7-45ad-9215-43ad1598af39",
   "metadata": {},
   "outputs": [],
   "source": []
  },
  {
   "cell_type": "code",
   "execution_count": null,
   "id": "0a9f439f-f408-4256-93fb-7ba1790a52c6",
   "metadata": {},
   "outputs": [],
   "source": []
  },
  {
   "cell_type": "code",
   "execution_count": 73,
   "id": "476db72f-2f2a-4de9-872f-31a202c2fa09",
   "metadata": {
    "tags": []
   },
   "outputs": [],
   "source": [
    "#QUESTION 36"
   ]
  },
  {
   "cell_type": "code",
   "execution_count": 74,
   "id": "8894ed34-cd68-4730-aba0-86121fb591b2",
   "metadata": {
    "tags": []
   },
   "outputs": [],
   "source": [
    "# WRITE A PROGRAM THAT GENRATES FIBONACCI NUMBERS UP TO A SPECIFIED TERM USING ITERATIVE METHODS."
   ]
  },
  {
   "cell_type": "code",
   "execution_count": 18,
   "id": "5e119c97-534c-4ffd-a30f-45699ba07e6b",
   "metadata": {},
   "outputs": [
    {
     "name": "stdin",
     "output_type": "stream",
     "text": [
      "Enter the number of Fibonacci terms: 5\n"
     ]
    },
    {
     "name": "stdout",
     "output_type": "stream",
     "text": [
      "[0, 1, 1, 2, 3]\n"
     ]
    }
   ],
   "source": [
    "def generate_fibonacci(n):\n",
    "    fib_sequence=[0,1]\n",
    "    for i in range(2,n):\n",
    "        fib_sequence.append(fib_sequence[i-1]+fib_sequence[i-2])\n",
    "    return fib_sequence\n",
    "n= int(input(\"Enter the number of Fibonacci terms:\"))\n",
    "fibonacci_sequence=generate_fibonacci(n)\n",
    "print(fibonacci_sequence)"
   ]
  },
  {
   "cell_type": "code",
   "execution_count": null,
   "id": "009a66a9-85eb-4379-bf33-85cdab29ec76",
   "metadata": {},
   "outputs": [],
   "source": []
  },
  {
   "cell_type": "code",
   "execution_count": null,
   "id": "87a91565-26e1-4559-9d9e-67ad8e49477b",
   "metadata": {},
   "outputs": [],
   "source": []
  },
  {
   "cell_type": "code",
   "execution_count": 75,
   "id": "a1ca585c-0bc5-4969-b9a3-ac932532774e",
   "metadata": {
    "tags": []
   },
   "outputs": [],
   "source": [
    "#QUESTION 37"
   ]
  },
  {
   "cell_type": "code",
   "execution_count": 76,
   "id": "2d1eba9e-a921-41ac-8fbf-d7b187e1715f",
   "metadata": {
    "tags": []
   },
   "outputs": [],
   "source": [
    "# DEVELOP A PROGRAM THAT CALCULATES THE NTH TERM OF THE FIBONACCI SEQUENCE USING MEMOIZATION."
   ]
  },
  {
   "cell_type": "code",
   "execution_count": 20,
   "id": "4a6ee44e-6031-4488-b093-635482437690",
   "metadata": {},
   "outputs": [
    {
     "name": "stdin",
     "output_type": "stream",
     "text": [
      "Enter the value of n: 6\n"
     ]
    },
    {
     "name": "stdout",
     "output_type": "stream",
     "text": [
      "The 6th term of the Fibonacci sequence is:8\n"
     ]
    }
   ],
   "source": [
    "fib_cache={}\n",
    "def fibonacci(n):\n",
    "    if n in fib_cache:\n",
    "        return fib_cache[n]\n",
    "    if n<= 1:\n",
    "        fib_term = n\n",
    "    else:\n",
    "        fib_term = fibonacci(n-1)+fibonacci(n-2)\n",
    "    fib_cache[n] = fib_term\n",
    "    return fib_term\n",
    "n = int(input(\"Enter the value of n:\"))\n",
    "fibonacci_term = fibonacci(n)\n",
    "print(f\"The {n}th term of the Fibonacci sequence is:{fibonacci_term}\")"
   ]
  },
  {
   "cell_type": "code",
   "execution_count": null,
   "id": "c66dd5c1-0055-4c6c-918e-248ba08169bf",
   "metadata": {},
   "outputs": [],
   "source": []
  },
  {
   "cell_type": "code",
   "execution_count": null,
   "id": "94f6355e-e819-4b4e-acb4-02c86b0b4827",
   "metadata": {},
   "outputs": [],
   "source": []
  },
  {
   "cell_type": "code",
   "execution_count": 77,
   "id": "65d78bc2-486e-4da8-b8a8-4b65cc1b56f8",
   "metadata": {
    "tags": []
   },
   "outputs": [],
   "source": [
    "#QUESTION 38"
   ]
  },
  {
   "cell_type": "code",
   "execution_count": 78,
   "id": "d00bd561-fc70-4ee6-8c60-567413b78963",
   "metadata": {
    "tags": []
   },
   "outputs": [],
   "source": [
    "# CRATE A PROGRAM THAT GENRATES A CALENDAR FOR A GIVEN MONTH AND YEAR USING CONDITIONAL STATEMENTS."
   ]
  },
  {
   "cell_type": "code",
   "execution_count": 23,
   "id": "504a96a2-df3e-4317-b83c-5aa8fc0f3776",
   "metadata": {},
   "outputs": [
    {
     "name": "stdin",
     "output_type": "stream",
     "text": [
      "Enter the month(1-12): 11\n",
      "Enter the year: 2023\n"
     ]
    },
    {
     "name": "stdout",
     "output_type": "stream",
     "text": [
      "November 2023\n",
      "Mon Tue Wed Thu Fri Sat Sun\n",
      "   1 2 3 4 5\n",
      " 6 7 8 9101112\n",
      "13141516171819\n",
      "20212223242526\n",
      "27282930   \n"
     ]
    }
   ],
   "source": [
    "import calendar\n",
    "month = int(input(\"Enter the month(1-12):\"))\n",
    "year = int(input(\"Enter the year:\"))\n",
    "cal = calendar.monthcalendar(year,month)\n",
    "print(calendar.month_name[month],year)\n",
    "print(\"Mon Tue Wed Thu Fri Sat Sun\")\n",
    "for week in cal:\n",
    "    for day in week:\n",
    "        if day== 0:\n",
    "            print(\" \",end=\"\")\n",
    "        else:\n",
    "            print(f\"{day:2d}\",end=\"\")\n",
    "    print()"
   ]
  },
  {
   "cell_type": "code",
   "execution_count": null,
   "id": "9e309760-bfc5-4047-8925-dfcb82eac12a",
   "metadata": {},
   "outputs": [],
   "source": []
  },
  {
   "cell_type": "code",
   "execution_count": null,
   "id": "548e129e-4d6c-46ba-adfb-37f546d35ae0",
   "metadata": {},
   "outputs": [],
   "source": []
  },
  {
   "cell_type": "code",
   "execution_count": 79,
   "id": "b159b581-7e31-4761-aab2-512f08853119",
   "metadata": {
    "tags": []
   },
   "outputs": [],
   "source": [
    "#QUESTION 39"
   ]
  },
  {
   "cell_type": "code",
   "execution_count": 80,
   "id": "0f61c1f2-4cd6-4a64-8ec9-3e0978707829",
   "metadata": {
    "tags": []
   },
   "outputs": [],
   "source": [
    "# BUILD A PROGRAM THAT SIMULATES A BASIC TEXT-BASED BLACK JACK GAME AGAINST THE COMPUTERS."
   ]
  },
  {
   "cell_type": "code",
   "execution_count": 25,
   "id": "283827b1-39b0-4bd9-ad94-a67785fb36bb",
   "metadata": {},
   "outputs": [
    {
     "name": "stdout",
     "output_type": "stream",
     "text": [
      "Your cards:[10, 9],current score:19\n",
      "Computer's first card:10\n"
     ]
    },
    {
     "name": "stdin",
     "output_type": "stream",
     "text": [
      "Tye'y' to get another card, or 'n' to pass: 2\n"
     ]
    },
    {
     "name": "stdout",
     "output_type": "stream",
     "text": [
      "Your final hand:[10, 9],final score:19\n",
      "Computer's final hand:[10, 9],final score:19\n",
      "It's a draw!\n"
     ]
    }
   ],
   "source": [
    "import random\n",
    "def deal_card():\n",
    "    \"\"\"Returns a random card from the deck.\"\"\"\n",
    "    cards = [11,2,3,4,5,6,7,8,9,10,10,10,10]\n",
    "    return random.choice(cards)\n",
    "def calculate_score(cards):\n",
    "    \"\"\"Takes a list of cards and returns the score calculated from the cards.\"\"\"\n",
    "    if sum(cards)==21 and len(card)==2:\n",
    "        return 0\n",
    "    if 11 in cards and sum(cards)>21:\n",
    "        cards.remove(11)\n",
    "        cards.append(1)\n",
    "    return sum(cards)\n",
    "def compare(user_score,computer_score):\n",
    "    if user_score>21 and computer_score>21:\n",
    "        return\"You went over. You lose!\"\n",
    "    if user_score == computer_score:\n",
    "        return\"It's a draw!\"\n",
    "    elif computer_score==0:\n",
    "        return\"Computer has Blackjack.You lose!\"\n",
    "    elif user_score==0:\n",
    "        return \"you have Blackjack! You win!\"\n",
    "    elif user_score>21:\n",
    "        return\"You went over.You lose!\"\n",
    "    elif computer_score>21:\n",
    "        return\"Computer went over. You win!\"\n",
    "    elif user_score>computer_score:\n",
    "        return\"You win!\"\n",
    "    else:\n",
    "        return\"You lose!\"\n",
    "def play_game():\n",
    "    user_cards=[]\n",
    "    computer_cards=[]\n",
    "    game_over=False\n",
    "    for _ in range(2):\n",
    "        user_cards.append(deal_card())\n",
    "        computer_cards.append(deal_card())\n",
    "    while not game_over:\n",
    "        user_score = calculate_score(user_cards)\n",
    "        computer_score=calculate_score(computer_cards)\n",
    "        print(f\"Your cards:{user_cards},current score:{user_score}\")\n",
    "        print(F\"Computer's first card:{computer_cards[0]}\")\n",
    "        if user_score==0 or computer_score==0 or user_score>21:\n",
    "            game_over = True\n",
    "        else:\n",
    "            should_continue = input(\"Tye'y' to get another card, or 'n' to pass:\")\n",
    "            if should_continue=='y':\n",
    "                user_cards.append(deal_card())\n",
    "            else:\n",
    "                game_over = True\n",
    "        while computer_score!=0 and computer_score<17:\n",
    "            computer_cards.append(deal_card())\n",
    "            computer_score(computer_cards)\n",
    "        print(f\"Your final hand:{user_cards},final score:{user_score}\")\n",
    "        print(f\"Computer's final hand:{computer_cards},final score:{computer_score}\")\n",
    "        print(compare(user_score,computer_score))\n",
    "play_game()\n",
    "            "
   ]
  },
  {
   "cell_type": "code",
   "execution_count": null,
   "id": "7eae347c-a5ef-4b72-a45e-0760b290ca62",
   "metadata": {},
   "outputs": [],
   "source": []
  },
  {
   "cell_type": "code",
   "execution_count": null,
   "id": "dcca825c-f9d7-4246-aeb3-afbbf2d256f1",
   "metadata": {},
   "outputs": [],
   "source": []
  },
  {
   "cell_type": "code",
   "execution_count": 81,
   "id": "247dd26f-03d8-4ff8-a4b8-995fdf029f17",
   "metadata": {
    "tags": []
   },
   "outputs": [],
   "source": [
    "#QUESTION 40"
   ]
  },
  {
   "cell_type": "code",
   "execution_count": 82,
   "id": "63cd2c6f-da63-4dbc-8df8-4dccdfbc1788",
   "metadata": {
    "tags": []
   },
   "outputs": [],
   "source": [
    "# WRITE A PROGRAM THAT GENRATES THE PRIME FACTORS OF A GIVEN NUMBER USING TRIAL DIVISION."
   ]
  },
  {
   "cell_type": "code",
   "execution_count": 30,
   "id": "a2d67278-8dae-4f3c-aef1-e30bf1bc530d",
   "metadata": {},
   "outputs": [
    {
     "name": "stdout",
     "output_type": "stream",
     "text": [
      "The prime factors of 24are:[2, 2, 2, 3]\n"
     ]
    }
   ],
   "source": [
    "def generate_prime_factors(number):\n",
    "    factors=[]\n",
    "    divisor = 2\n",
    "    while divisor<=number:\n",
    "        if number%divisor == 0:\n",
    "            factors.append(divisor)\n",
    "            number = number//divisor\n",
    "        else:\n",
    "            divisor +=1\n",
    "    return factors\n",
    "number = 24\n",
    "prime_factors= generate_prime_factors(number)\n",
    "print(f\"The prime factors of {number}are:{prime_factors}\")"
   ]
  },
  {
   "cell_type": "code",
   "execution_count": null,
   "id": "2a140b84-7ab3-4505-96a4-c04363531361",
   "metadata": {},
   "outputs": [],
   "source": []
  }
 ],
 "metadata": {
  "kernelspec": {
   "display_name": "Python 3 (ipykernel)",
   "language": "python",
   "name": "python3"
  },
  "language_info": {
   "codemirror_mode": {
    "name": "ipython",
    "version": 3
   },
   "file_extension": ".py",
   "mimetype": "text/x-python",
   "name": "python",
   "nbconvert_exporter": "python",
   "pygments_lexer": "ipython3",
   "version": "3.11.4"
  }
 },
 "nbformat": 4,
 "nbformat_minor": 5
}
